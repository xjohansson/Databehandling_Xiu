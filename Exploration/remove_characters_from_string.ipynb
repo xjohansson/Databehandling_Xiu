{
 "cells": [
  {
   "cell_type": "markdown",
   "metadata": {},
   "source": [
    "# Remove last 3 character from string using Slicing & Positive Indexing"
   ]
  },
  {
   "cell_type": "code",
   "execution_count": 3,
   "metadata": {},
   "outputs": [
    {
     "data": {
      "text/plain": [
       "13"
      ]
     },
     "execution_count": 3,
     "metadata": {},
     "output_type": "execute_result"
    }
   ],
   "source": [
    "org_string = \"Sample String\"\n",
    "\n",
    "size = len(org_string) #数一共有多少个字节，包括中间的空格号\n",
    "size\n"
   ]
  },
  {
   "cell_type": "code",
   "execution_count": 6,
   "metadata": {},
   "outputs": [
    {
     "name": "stdout",
     "output_type": "stream",
     "text": [
      "Sample Str\n"
     ]
    }
   ],
   "source": [
    "org_string = \"Sample String\"\n",
    "size = len(org_string)\n",
    "# Slice string to remove last 3 characters from string\n",
    "mod_string = org_string[:size - 3]\n",
    "print(mod_string)"
   ]
  },
  {
   "cell_type": "code",
   "execution_count": 7,
   "metadata": {},
   "outputs": [
    {
     "name": "stdout",
     "output_type": "stream",
     "text": [
      "Sample Str\n"
     ]
    }
   ],
   "source": [
    "org_string = \"Sample String\"\n",
    "mod_string = org_string[:-3]\n",
    "print(mod_string)"
   ]
  },
  {
   "cell_type": "markdown",
   "metadata": {},
   "source": [
    "# Remove final N characters from string using for loop"
   ]
  },
  {
   "cell_type": "code",
   "execution_count": 9,
   "metadata": {},
   "outputs": [
    {
     "name": "stdout",
     "output_type": "stream",
     "text": [
      "Sample Strin\n"
     ]
    }
   ],
   "source": [
    "org_string = \"Sample String\"\n",
    "n = 1\n",
    "mod_string = \"\"\n",
    "# Iterate over the characters in string and select all except last 3\n",
    "for i in range(len(org_string) - n):\n",
    "    mod_string = mod_string + org_string[i]\n",
    "print(mod_string)"
   ]
  }
 ],
 "metadata": {
  "interpreter": {
   "hash": "378709abd558d8e3c833f527b4b1fe3f10522f583709d8a7955466a0d10fd308"
  },
  "kernelspec": {
   "display_name": "Python 3.9.6 64-bit ('Databehandling_Xiu-TYvkZc4P': pipenv)",
   "name": "python3"
  },
  "language_info": {
   "codemirror_mode": {
    "name": "ipython",
    "version": 3
   },
   "file_extension": ".py",
   "mimetype": "text/x-python",
   "name": "python",
   "nbconvert_exporter": "python",
   "pygments_lexer": "ipython3",
   "version": "3.9.6"
  },
  "orig_nbformat": 4
 },
 "nbformat": 4,
 "nbformat_minor": 2
}
