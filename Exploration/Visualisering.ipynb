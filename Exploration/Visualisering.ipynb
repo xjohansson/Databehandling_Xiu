{
 "cells": [
  {
   "cell_type": "markdown",
   "metadata": {},
   "source": [
    "matplotlib\n",
    "seaborn\n",
    "plotly\n",
    "numpy statistiska METHOD_NOT_ALLOWED\n",
    "sklearn\n",
    "tensorflow\n",
    "sql nosql"
   ]
  }
 ],
 "metadata": {
  "language_info": {
   "name": "python"
  },
  "orig_nbformat": 4
 },
 "nbformat": 4,
 "nbformat_minor": 2
}
