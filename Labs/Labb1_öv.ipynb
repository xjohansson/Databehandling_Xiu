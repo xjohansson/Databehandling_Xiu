{
 "cells": [
  {
   "cell_type": "code",
   "execution_count": 1,
   "metadata": {},
   "outputs": [
    {
     "ename": "ModuleNotFoundError",
     "evalue": "No module named 'plotly_express'",
     "output_type": "error",
     "traceback": [
      "\u001b[1;31m---------------------------------------------------------------------------\u001b[0m",
      "\u001b[1;31mModuleNotFoundError\u001b[0m                       Traceback (most recent call last)",
      "\u001b[1;32m~\\AppData\\Local\\Temp/ipykernel_16956/1608822599.py\u001b[0m in \u001b[0;36m<module>\u001b[1;34m\u001b[0m\n\u001b[1;32m----> 1\u001b[1;33m \u001b[1;32mimport\u001b[0m \u001b[0mplotly_express\u001b[0m \u001b[1;32mas\u001b[0m \u001b[0mpx\u001b[0m\u001b[1;33m\u001b[0m\u001b[1;33m\u001b[0m\u001b[0m\n\u001b[0m\u001b[0;32m      2\u001b[0m \u001b[1;32mimport\u001b[0m \u001b[0mplotly\u001b[0m\u001b[1;33m.\u001b[0m\u001b[0mgraph_objects\u001b[0m \u001b[1;32mas\u001b[0m \u001b[0mgo\u001b[0m\u001b[1;33m\u001b[0m\u001b[1;33m\u001b[0m\u001b[0m\n\u001b[0;32m      3\u001b[0m \u001b[0mfig\u001b[0m\u001b[1;33m=\u001b[0m\u001b[0mpx\u001b[0m\u001b[1;33m.\u001b[0m\u001b[0mscatter\u001b[0m\u001b[1;33m(\u001b[0m\u001b[0mCovid19\u001b[0m\u001b[1;33m,\u001b[0m\u001b[0mx\u001b[0m\u001b[1;33m=\u001b[0m\u001b[1;34m\"Vecka\"\u001b[0m\u001b[1;33m,\u001b[0m\u001b[0my\u001b[0m\u001b[1;33m=\u001b[0m\u001b[1;34m\"Antal_avlidna_vecka\"\u001b[0m\u001b[1;33m,\u001b[0m\u001b[0mtitle\u001b[0m\u001b[1;33m=\u001b[0m\u001b[1;34m\"Number of death per week from 2020V6 to Now\"\u001b[0m\u001b[1;33m,\u001b[0m\u001b[0msize\u001b[0m\u001b[1;33m=\u001b[0m\u001b[1;34m\"Antal_avlidna_vecka\"\u001b[0m\u001b[1;33m,\u001b[0m\u001b[0msize_max\u001b[0m\u001b[1;33m=\u001b[0m\u001b[1;36m60\u001b[0m\u001b[1;33m)\u001b[0m\u001b[1;33m\u001b[0m\u001b[1;33m\u001b[0m\u001b[0m\n\u001b[0;32m      4\u001b[0m \u001b[0mfig\u001b[0m\u001b[1;33m.\u001b[0m\u001b[0mshow\u001b[0m\u001b[1;33m(\u001b[0m\u001b[1;33m)\u001b[0m\u001b[1;33m\u001b[0m\u001b[1;33m\u001b[0m\u001b[0m\n",
      "\u001b[1;31mModuleNotFoundError\u001b[0m: No module named 'plotly_express'"
     ]
    }
   ],
   "source": [
    "import plotly_express as px\n",
    "import plotly.graph_objects as go\n",
    "fig=px.scatter(Covid19,x=\"Vecka\",y=\"Antal_avlidna_vecka\",title=\"Number of death per week from 2020V6 to Now\",size=\"Antal_avlidna_vecka\",size_max=60)\n",
    "fig.show()"
   ]
  },
  {
   "cell_type": "code",
   "execution_count": null,
   "metadata": {},
   "outputs": [],
   "source": [
    "fig=px.scatter(Covid19,x=\"Vecka\",y=\"Antal_avlidna_vecka\",title=\"Number of death per week from 2020V6 to Now\",size=\"Antal_avlidna_vecka\",size_max=60,animation_frame=\"Vecka\",)\n",
    "fig.show()"
   ]
  },
  {
   "cell_type": "code",
   "execution_count": null,
   "metadata": {},
   "outputs": [],
   "source": [
    "\"\"\"from plotly.subplots import make_subplots\n",
    "fig = make_subplots(rows=2, cols=2,subplot_titles=[\"Number of death per week from 2020V6 to Now\",\n",
    "                                                   \"Number of new cases per week from 2020 V6 to now\",\n",
    "                                                    \"Number of new cases VS death(log) per week from 2020v6 untill now\",\n",
    "                                                    \"Number of cumulative falls per week from 2020v6 untill now\",]\n",
    "                                                    )\n",
    "\n",
    "fig.add_trace(go.Bar(x=Vaccine_lan.index,\n",
    "                     y=Vaccine_lan[\"Andel färdigvaccinerade\"], \n",
    "                     name=\"Number of fully vaccinated\"),\n",
    "                     row=1, col=1)\n",
    "\n",
    "fig.add_trace(go.Bar(x=Vaccine_lan.index,\n",
    "                     y=Vaccine_lan[\"Andel minst 1 dos\"],\n",
    "                     name=\"Number of at least 1 dose\"),\n",
    "                     row=1, col=2)\n",
    "\n",
    "fig.show()\"\"\""
   ]
  },
  {
   "cell_type": "code",
   "execution_count": null,
   "metadata": {},
   "outputs": [],
   "source": [
    "import plotly.graph_objects as go\n",
    "\n",
    "fig = go.Figure()\n",
    "\n",
    "x=Vaccine_lan.index\n",
    "y1=Vaccine_lan[\"Befolkning\"]\n",
    "y2=Vaccine_lan[\"Antal minst 1 dos\"]\n",
    "y3=Vaccine_lan[\"Antal färdigvaccinerade\"]\n",
    "\n",
    "fig.add_bar(x, y=y1, name=\"Befolkning större med 16 år\")\n",
    "             \n",
    "fig.add_bar(x, y=y2, name=\"Antal minst 1 dos per län\")\n",
    "\n",
    "fig.add_bar(x, y=y3,name=\"Antal färdigvaccinerade per län\")"
   ]
  }
 ],
 "metadata": {
  "interpreter": {
   "hash": "26686dec1f1c69e7843542045c9bcb01e7d61ef2953291481df04c12bb1a928f"
  },
  "kernelspec": {
   "display_name": "Python 3.9.6 64-bit",
   "language": "python",
   "name": "python3"
  },
  "language_info": {
   "codemirror_mode": {
    "name": "ipython",
    "version": 3
   },
   "file_extension": ".py",
   "mimetype": "text/x-python",
   "name": "python",
   "nbconvert_exporter": "python",
   "pygments_lexer": "ipython3",
   "version": "3.9.6"
  },
  "orig_nbformat": 4
 },
 "nbformat": 4,
 "nbformat_minor": 2
}
