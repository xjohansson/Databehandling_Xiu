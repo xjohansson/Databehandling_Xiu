{
 "cells": [
  {
   "cell_type": "code",
   "execution_count": null,
   "metadata": {},
   "outputs": [],
   "source": [
    "import plotly_express as px\n",
    "import plotly.graph_objects as go\n",
    "fig=px.scatter(Covid19,x=\"Vecka\",y=\"Antal_avlidna_vecka\",title=\"Number of death per week from 2020V6 to Now\",size=\"Antal_avlidna_vecka\",size_max=60)\n",
    "fig.show()"
   ]
  },
  {
   "cell_type": "code",
   "execution_count": null,
   "metadata": {},
   "outputs": [],
   "source": [
    "fig=px.scatter(Covid19,x=\"Vecka\",y=\"Antal_avlidna_vecka\",title=\"Number of death per week from 2020V6 to Now\",size=\"Antal_avlidna_vecka\",size_max=60,animation_frame=\"Vecka\",)\n",
    "fig.show()"
   ]
  },
  {
   "cell_type": "code",
   "execution_count": null,
   "metadata": {},
   "outputs": [],
   "source": [
    "\"\"\"from plotly.subplots import make_subplots\n",
    "fig = make_subplots(rows=2, cols=2,subplot_titles=[\"Number of death per week from 2020V6 to Now\",\n",
    "                                                   \"Number of new cases per week from 2020 V6 to now\",\n",
    "                                                    \"Number of new cases VS death(log) per week from 2020v6 untill now\",\n",
    "                                                    \"Number of cumulative falls per week from 2020v6 untill now\",]\n",
    "                                                    )\n",
    "\n",
    "fig.add_trace(go.Bar(x=Vaccine_lan.index,\n",
    "                     y=Vaccine_lan[\"Andel färdigvaccinerade\"], \n",
    "                     name=\"Number of fully vaccinated\"),\n",
    "                     row=1, col=1)\n",
    "\n",
    "fig.add_trace(go.Bar(x=Vaccine_lan.index,\n",
    "                     y=Vaccine_lan[\"Andel minst 1 dos\"],\n",
    "                     name=\"Number of at least 1 dose\"),\n",
    "                     row=1, col=2)\n",
    "\n",
    "fig.show()\"\"\""
   ]
  },
  {
   "cell_type": "code",
   "execution_count": null,
   "metadata": {},
   "outputs": [],
   "source": [
    "import plotly.graph_objects as go\n",
    "\n",
    "fig = go.Figure()\n",
    "\n",
    "x=Vaccine_lan.index\n",
    "y1=Vaccine_lan[\"Befolkning\"]\n",
    "y2=Vaccine_lan[\"Antal minst 1 dos\"]\n",
    "y3=Vaccine_lan[\"Antal färdigvaccinerade\"]\n",
    "\n",
    "fig.add_bar(x, y=y1, name=\"Befolkning större med 16 år\")\n",
    "             \n",
    "fig.add_bar(x, y=y2, name=\"Antal minst 1 dos per län\")\n",
    "\n",
    "fig.add_bar(x, y=y3,name=\"Antal färdigvaccinerade per län\")"
   ]
  }
 ],
 "metadata": {
  "language_info": {
   "name": "python"
  },
  "orig_nbformat": 4
 },
 "nbformat": 4,
 "nbformat_minor": 2
}
