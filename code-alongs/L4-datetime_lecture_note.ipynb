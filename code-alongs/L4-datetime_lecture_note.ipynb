{
 "cells": [
  {
   "cell_type": "markdown",
   "metadata": {},
   "source": [
    "\n",
    "<a href=\"https://colab.research.google.com/github/kokchun/Databehandling-21/blob/main/Lectures/L4-datetime.ipynb\" target=\"_parent\"><img align=\"left\" src=\"https://colab.research.google.com/assets/colab-badge.svg\" alt=\"Open In Colab\"/></a> &nbsp; for interacting with the code"
   ]
  },
  {
   "cell_type": "markdown",
   "metadata": {},
   "source": [
    "---\n",
    "# Lecture notes - Python's datetime\n",
    "---\n",
    "\n",
    "This is the lecture note for datetime module in Python - but it's built previous course: \n",
    "- Python programming\n",
    "\n",
    "<p class = \"alert alert-info\" role=\"alert\"><b>Note</b> that this lecture note gives a brief introduction to Pythons datetime. I encourage you to read further about datetime.\n",
    "\n",
    "Read more \n",
    "- [Datetime documentation](https://docs.python.org/3/library/datetime.html)\n",
    "- [w3schools - Datetime](https://www.w3schools.com/python/python_datetime.asp)\n",
    "---"
   ]
  },
  {
   "cell_type": "markdown",
   "metadata": {},
   "source": [
    "## Datetime obj <-> str\n",
    "- strftime: datetime obj -> str\n",
    "- strptime: str obj -> datetime obj"
   ]
  },
  {
   "cell_type": "code",
   "execution_count": 2,
   "metadata": {},
   "outputs": [
    {
     "name": "stdout",
     "output_type": "stream",
     "text": [
      "2021-11-01 09:34:33.369058\n",
      "Todays date is 2021-11-01\n",
      "Today is Monday\n",
      "The week is 44\n"
     ]
    }
   ],
   "source": [
    "from datetime import datetime \n",
    "\n",
    "now = datetime.now()\n",
    "print(now) # format: year-month-date hour:min:sec.microsecs \n",
    "print(f\"Todays date is {now.date()}\")\n",
    "print(f\"Today is {now.strftime('%A')}\")\n",
    "print(f\"The week is {now.strftime('%W')}\")\n",
    "\n",
    "# \"%A Weekday 星期几\", \"%w Weekday as a number 0-6, 0 is Sunday\""
   ]
  },
  {
   "cell_type": "code",
   "execution_count": 3,
   "metadata": {},
   "outputs": [
    {
     "name": "stdout",
     "output_type": "stream",
     "text": [
      "2023-05-19 00:00:00\n"
     ]
    },
    {
     "data": {
      "text/plain": [
       "datetime.datetime(2023, 5, 19, 0, 0)"
      ]
     },
     "execution_count": 3,
     "metadata": {},
     "output_type": "execute_result"
    }
   ],
   "source": [
    "graduation_date = \"19/5-2023\"\n",
    "graduation_date = datetime.strptime(graduation_date, \"%d/%m-%Y\")\n",
    "print(graduation_date) # __str__()\n",
    "graduation_date # __repr__()"
   ]
  },
  {
   "cell_type": "code",
   "execution_count": 4,
   "metadata": {},
   "outputs": [
    {
     "name": "stdout",
     "output_type": "stream",
     "text": [
      "563 days, 14:25:26.630942\n"
     ]
    },
    {
     "data": {
      "text/plain": [
       "datetime.timedelta(days=563, seconds=51926, microseconds=630942)"
      ]
     },
     "execution_count": 4,
     "metadata": {},
     "output_type": "execute_result"
    }
   ],
   "source": [
    "remaining_time = graduation_date-now  #毕业日期减去现在的日期 就是还剩的时间\n",
    "print(remaining_time)\n",
    "remaining_time # a timedelta obj with days, sec, microsec"
   ]
  },
  {
   "cell_type": "code",
   "execution_count": 5,
   "metadata": {},
   "outputs": [
    {
     "data": {
      "text/plain": [
       "1.5424657534246575"
      ]
     },
     "execution_count": 5,
     "metadata": {},
     "output_type": "execute_result"
    }
   ],
   "source": [
    "remaining_time.days/365"
   ]
  },
  {
   "cell_type": "code",
   "execution_count": 8,
   "metadata": {},
   "outputs": [
    {
     "name": "stdout",
     "output_type": "stream",
     "text": [
      "1.55 years left before graduation\n"
     ]
    }
   ],
   "source": [
    "print(f\"{remaining_time.days/365:.2f} years left before graduation\")"
   ]
  },
  {
   "cell_type": "code",
   "execution_count": 9,
   "metadata": {},
   "outputs": [
    {
     "data": {
      "text/plain": [
       "'Week: 51, day: Fri'"
      ]
     },
     "execution_count": 9,
     "metadata": {},
     "output_type": "execute_result"
    }
   ],
   "source": [
    "christmas_str = \"2021-12-24\"\n",
    "christmas_date = datetime.strptime(christmas_str, \"%Y-%m-%d\")\n",
    "christmas_date.strftime(\"Week: %W, day: %a\") # check calendar if correct"
   ]
  }
 ],
 "metadata": {
  "interpreter": {
   "hash": "378709abd558d8e3c833f527b4b1fe3f10522f583709d8a7955466a0d10fd308"
  },
  "kernelspec": {
   "display_name": "Python 3.9.6 64-bit ('Databehandling_Xiu-TYvkZc4P': pipenv)",
   "name": "python3"
  },
  "language_info": {
   "codemirror_mode": {
    "name": "ipython",
    "version": 3
   },
   "file_extension": ".py",
   "mimetype": "text/x-python",
   "name": "python",
   "nbconvert_exporter": "python",
   "pygments_lexer": "ipython3",
   "version": "3.9.6"
  },
  "orig_nbformat": 4
 },
 "nbformat": 4,
 "nbformat_minor": 2
}
