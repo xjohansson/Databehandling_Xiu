{
 "cells": [
  {
   "cell_type": "markdown",
   "metadata": {},
   "source": [
    "## 1. Swedish demographic data (*)\n",
    "#Go to Swedish-language wikipedia page Sveriges demografi."
   ]
  },
  {
   "cell_type": "code",
   "execution_count": 124,
   "metadata": {},
   "outputs": [],
   "source": [
    "import pandas as pd\n",
    "import plotly_express as px \n",
    "import matplotlib.pyplot as plt\n",
    "import plotly.graph_objs as go"
   ]
  },
  {
   "cell_type": "code",
   "execution_count": 78,
   "metadata": {},
   "outputs": [
    {
     "data": {
      "text/plain": [
       "[                              0                            1\n",
       " 0            Sveriges demografi           Sveriges demografi\n",
       " 1   Sveriges befolkningspyramid  Sveriges befolkningspyramid\n",
       " 2                    Befolkning            10 427 296 (88:e)\n",
       " 3             Befolkningstäthet                23,3 inv./km²\n",
       " 4                    Födelsetal   12,1/1 000 invånare (2018)\n",
       " 5                       Dödstal    9,4/1 000 invånare (2017)\n",
       " 6        Förväntad levnadslängd                          NaN\n",
       " 7                         • män                   80,6 år[1]\n",
       " 8                     • kvinnor                      84,3 år\n",
       " 9          Summerad fruktsamhet      1,66 barn/kvinna (2020)\n",
       " 10           Spädbarnsdödlighet            2,6/1 000 födslar\n",
       " 11                      0–14 år                  17,62 % [1]\n",
       " 12                  65 och över                      19,78 %,\n",
       "                                    Vid utgången av år  \\\n",
       "                                    Vid utgången av år   \n",
       " 0                                                1570   \n",
       " 1                                                1650   \n",
       " 2                                                1700   \n",
       " 3                                                1720   \n",
       " 4                                                1755   \n",
       " 5                                                1815   \n",
       " 6                                                1865   \n",
       " 7                                                1900   \n",
       " 8                                                2000   \n",
       " 9                                                2020   \n",
       " 10  Datan avser folkmängden inom Sveriges nuvarand...   \n",
       " \n",
       "                                             Folkmängd  \\\n",
       "                                             Folkmängd   \n",
       " 0                                             900 000   \n",
       " 1                                           1 225 000   \n",
       " 2                                           1 485 000   \n",
       " 3                                           1 350 000   \n",
       " 4                                           1 878 000   \n",
       " 5                                           2 465 000   \n",
       " 6                                           4 099 000   \n",
       " 7                                           5 140 000   \n",
       " 8                                           8 861 000   \n",
       " 9                                          10 379 000   \n",
       " 10  Datan avser folkmängden inom Sveriges nuvarand...   \n",
       " \n",
       "                                        Årlig tillväxt  \\\n",
       "                                                Totalt   \n",
       " 0                                                   —   \n",
       " 1                                               4 063   \n",
       " 2                                               5 200   \n",
       " 3                                              −6 750   \n",
       " 4                                              15 086   \n",
       " 5                                               9 783   \n",
       " 6                                              32 680   \n",
       " 7                                              29 743   \n",
       " 8                                                 NaN   \n",
       " 9                                                 NaN   \n",
       " 10  Datan avser folkmängden inom Sveriges nuvarand...   \n",
       " \n",
       "                                                        \n",
       "                                              Promille  \n",
       " 0                                                   —  \n",
       " 1                                                 386  \n",
       " 2                                                 386  \n",
       " 3                                               −4,75  \n",
       " 4                                                 948  \n",
       " 5                                                 454  \n",
       " 6                                                1022  \n",
       " 7                                                 648  \n",
       " 8                                                 NaN  \n",
       " 9                                                 NaN  \n",
       " 10  Datan avser folkmängden inom Sveriges nuvarand...  ,\n",
       "   Civilstånd 31 december 2016  Antal  Andel (%)  Varav män  Kvinnor\n",
       " 0                      Ogifta    NaN       5260        NaN      NaN\n",
       " 1                       Gifta    NaN       3331        NaN      NaN\n",
       " 2                      Skilda    NaN        968        NaN      NaN\n",
       " 3             Änkor/änklingar    NaN        441        NaN      NaN,\n",
       "                       Antal födda och döda i Sverige\n",
       " 0  @media all and (max-width:720px){body.skin-min...,\n",
       "        År  Total fertilitet\n",
       " 0    1630               481\n",
       " 1    1632               425\n",
       " 2    1634               389\n",
       " 3    1636               438\n",
       " 4    1638               440\n",
       " ..    ...               ...\n",
       " 171  1896               398\n",
       " 172  1897               392\n",
       " 173  1898               399\n",
       " 174  1899               390\n",
       " 175  1900               400\n",
       " \n",
       " [176 rows x 2 columns],\n",
       "      Unnamed: 0   Folkmängd    Födda    Döda Befolkningsförändringar  \\\n",
       " 0          1900   5 117 000  138 139  86 146                  51 993   \n",
       " 1          1901   5 156 000  139 370  82 772                  56 598   \n",
       " 2          1902   5 187 000  137 364  79 722                  57 642   \n",
       " 3          1903   5 210 000  133 896  78 610                  55 286   \n",
       " 4          1904   5 241 000  134 952  80 152                  54 800   \n",
       " ..          ...         ...      ...     ...                     ...   \n",
       " 116        2016   9 995 000  117 425  90 982                  26 443   \n",
       " 117        2017  10 120 000  115 416  91 972                  23 444   \n",
       " 118        2018  10 230 000  115 832  92 185                  23 647   \n",
       " 119        2019  10 327 589  114 523  88 766                  28 727   \n",
       " 120        2020  10 379 295  113 077  98 124                  14 953   \n",
       " \n",
       "      Nativiteten (per 1000)  Dödstalen (per 1000)  \\\n",
       " 0                       270                   168   \n",
       " 1                       270                   161   \n",
       " 2                       265                   154   \n",
       " 3                       257                   151   \n",
       " 4                       257                   153   \n",
       " ..                      ...                   ...   \n",
       " 116                     118                    92   \n",
       " 117                     114                    91   \n",
       " 118                     113                    90   \n",
       " 119                     111                    87   \n",
       " 120                     109                    95   \n",
       " \n",
       "      Befolkningsförändringar (per 1000)  Total fertilitet  \n",
       " 0                                   102               402  \n",
       " 1                                   110               404  \n",
       " 2                                   111               395  \n",
       " 3                                   106               382  \n",
       " 4                                   105               383  \n",
       " ..                                  ...               ...  \n",
       " 116                                  26               185  \n",
       " 117                                  23               179  \n",
       " 118                                  23               175  \n",
       " 119                                  24               170  \n",
       " 120                                  14               166  \n",
       " \n",
       " [121 rows x 9 columns],\n",
       "                        Land    1900    1930     1960     1990       2019\n",
       " 0                    Syrien     NaN     NaN      NaN      NaN        NaN\n",
       " 1                      Irak     NaN     NaN      NaN      NaN        NaN\n",
       " 2                   Finland     NaN     NaN      NaN      NaN        NaN\n",
       " 3                     Polen     NaN     NaN      NaN      NaN        NaN\n",
       " 4                      Iran     NaN     NaN      NaN      NaN        NaN\n",
       " 5                   Somalia     NaN     NaN      NaN      NaN        NaN\n",
       " 6               Jugoslavien     NaN     NaN      NaN      NaN        NaN\n",
       " 7   Bosnien och Hercegovina     NaN     NaN      NaN      NaN        NaN\n",
       " 8               Afghanistan     NaN     NaN      NaN      NaN        NaN\n",
       " 9                   Turkiet     NaN     NaN      NaN      NaN        NaN\n",
       " 10                 Tyskland     NaN     NaN      NaN      NaN        NaN\n",
       " 11                  Eritrea     NaN     NaN      NaN      NaN        NaN\n",
       " 12                 Thailand     NaN     NaN      NaN      NaN        NaN\n",
       " 13                    Norge     NaN     NaN      NaN      NaN        NaN\n",
       " 14                   Indien     NaN     NaN      NaN      NaN        NaN\n",
       " 15                  Danmark     NaN     NaN      NaN      NaN        NaN\n",
       " 16      Kina (ej Hong Kong)     NaN     NaN      NaN      NaN        NaN\n",
       " 17                 Rumänien     NaN     NaN      NaN      NaN        NaN\n",
       " 18           Storbritannien     NaN     NaN      NaN      NaN        NaN\n",
       " 19                  Libanon     NaN     NaN      NaN      NaN        NaN\n",
       " 20                    Chile     NaN     NaN      NaN      NaN        NaN\n",
       " 21                      USA     NaN     NaN      NaN      NaN        NaN\n",
       " 22                 Ryssland     NaN     NaN      NaN      NaN        NaN\n",
       " 23                 Etiopien     NaN     NaN      NaN      NaN        NaN\n",
       " 24                  Vietnam     NaN     NaN      NaN      NaN        NaN\n",
       " 25                 Grekland     NaN     NaN      NaN      NaN        NaN\n",
       " 26                 Pakistan     NaN     NaN      NaN      NaN        NaN\n",
       " 27                   Ungern     NaN     NaN      NaN      NaN        NaN\n",
       " 28                  Litauen     NaN     NaN      NaN      NaN        NaN\n",
       " 29             Filippinerna     NaN     NaN      NaN      NaN        NaN\n",
       " 30             Totalt antal  35 627  61 657  299 879  790 445  2 019 733,\n",
       "                                                     0  \\\n",
       " 0   v • rSverigeStyrelseStatsskickGrundlag · Stats...   \n",
       " 1                                        v • rSverige   \n",
       " 2                                                 NaN   \n",
       " 3                                            Styrelse   \n",
       " 4                                          Statsskick   \n",
       " 5                                                 NaN   \n",
       " 6                                             Försvar   \n",
       " 7                                                 NaN   \n",
       " 8                                             Politik   \n",
       " 9                                                 NaN   \n",
       " 10                                         Rättsväsen   \n",
       " 11                                                NaN   \n",
       " 12                                     Administration   \n",
       " 13                                                NaN   \n",
       " 14                                             Kultur   \n",
       " 15                                            Uttryck   \n",
       " 16                                                NaN   \n",
       " 17                                           Symbolik   \n",
       " 18                                                NaN   \n",
       " 19                                           Samhälle   \n",
       " 20                                          Demografi   \n",
       " 21                                                NaN   \n",
       " 22                                          Massmedia   \n",
       " 23                                                NaN   \n",
       " 24                                            Ekonomi   \n",
       " 25                                                NaN   \n",
       " 26                                           Geografi   \n",
       " 27                                        Territorium   \n",
       " 28                                                NaN   \n",
       " 29                                           Historik   \n",
       " 30                                        Förhistoria   \n",
       " 31                                                NaN   \n",
       " 32                                      Historisk tid   \n",
       " 33                                                NaN   \n",
       " 34                                             Portal   \n",
       " \n",
       "                                                     1             2  \n",
       " 0                                                 NaN           NaN  \n",
       " 1                                        v • rSverige  v • rSverige  \n",
       " 2                                                 NaN           NaN  \n",
       " 3   StatsskickGrundlag · Statschef · Riksdag · Reg...           NaN  \n",
       " 4   Grundlag · Statschef · Riksdag · Regering · La...           NaN  \n",
       " 5                                                 NaN           NaN  \n",
       " 6   Försvarsmakten · Armé · Marinen · Flygvapen · ...           NaN  \n",
       " 7                                                 NaN           NaN  \n",
       " 8   Politiska partier · Politiska unioner · Europa...           NaN  \n",
       " 9                                                 NaN           NaN  \n",
       " 10           Säkerhetspolis · Polis · Domstolsväsende           NaN  \n",
       " 11                                                NaN           NaN  \n",
       " 12  Svenska staten · Myndigheter · Län · Kommuner ...           NaN  \n",
       " 13                                                NaN           NaN  \n",
       " 14  UttryckSvenska språket · Litteratur · Konst · ...           NaN  \n",
       " 15  Svenska språket · Litteratur · Konst · Arkitek...           NaN  \n",
       " 16                                                NaN           NaN  \n",
       " 17  Riksvapen · Flagga · Riksbaner · Riksregalier ...           NaN  \n",
       " 18                                                NaN           NaN  \n",
       " 19  DemografiSvenskar · Språk · Historiska befolkn...           NaN  \n",
       " 20  Svenskar · Språk · Historiska befolkningsstorl...           NaN  \n",
       " 21                                                NaN           NaN  \n",
       " 22  Internetdomän · Press · Dagstidningar · TV · R...           NaN  \n",
       " 23                                                NaN           NaN  \n",
       " 24   Valuta · Riksbanken · Företag · Stockholmsbörsen           NaN  \n",
       " 25                                                NaN           NaN  \n",
       " 26  TerritoriumIndelning · Klimat · Landsdelar · L...           NaN  \n",
       " 27  Indelning · Klimat · Landsdelar · Landskap · V...           NaN  \n",
       " 28                                                NaN           NaN  \n",
       " 29  FörhistoriaPaleolitikum · Mesolitikum · Neolit...           NaN  \n",
       " 30  Paleolitikum · Mesolitikum · Neolitikum · Bron...           NaN  \n",
       " 31                                                NaN           NaN  \n",
       " 32  Äldre medeltid · Folkungatiden · Kalmarunionen...           NaN  \n",
       " 33                                                NaN           NaN  \n",
       " 34                                             Portal        Portal  ,\n",
       "       v • rSverige                                     v • rSverige.1  \\\n",
       " 0              NaN                                                NaN   \n",
       " 1         Styrelse  StatsskickGrundlag · Statschef · Riksdag · Reg...   \n",
       " 2       Statsskick  Grundlag · Statschef · Riksdag · Regering · La...   \n",
       " 3              NaN                                                NaN   \n",
       " 4          Försvar  Försvarsmakten · Armé · Marinen · Flygvapen · ...   \n",
       " 5              NaN                                                NaN   \n",
       " 6          Politik  Politiska partier · Politiska unioner · Europa...   \n",
       " 7              NaN                                                NaN   \n",
       " 8       Rättsväsen           Säkerhetspolis · Polis · Domstolsväsende   \n",
       " 9              NaN                                                NaN   \n",
       " 10  Administration  Svenska staten · Myndigheter · Län · Kommuner ...   \n",
       " 11             NaN                                                NaN   \n",
       " 12          Kultur  UttryckSvenska språket · Litteratur · Konst · ...   \n",
       " 13         Uttryck  Svenska språket · Litteratur · Konst · Arkitek...   \n",
       " 14             NaN                                                NaN   \n",
       " 15        Symbolik  Riksvapen · Flagga · Riksbaner · Riksregalier ...   \n",
       " 16             NaN                                                NaN   \n",
       " 17        Samhälle  DemografiSvenskar · Språk · Historiska befolkn...   \n",
       " 18       Demografi  Svenskar · Språk · Historiska befolkningsstorl...   \n",
       " 19             NaN                                                NaN   \n",
       " 20       Massmedia  Internetdomän · Press · Dagstidningar · TV · R...   \n",
       " 21             NaN                                                NaN   \n",
       " 22         Ekonomi   Valuta · Riksbanken · Företag · Stockholmsbörsen   \n",
       " 23             NaN                                                NaN   \n",
       " 24        Geografi  TerritoriumIndelning · Klimat · Landsdelar · L...   \n",
       " 25     Territorium  Indelning · Klimat · Landsdelar · Landskap · V...   \n",
       " 26             NaN                                                NaN   \n",
       " 27        Historik  FörhistoriaPaleolitikum · Mesolitikum · Neolit...   \n",
       " 28     Förhistoria  Paleolitikum · Mesolitikum · Neolitikum · Bron...   \n",
       " 29             NaN                                                NaN   \n",
       " 30   Historisk tid  Äldre medeltid · Folkungatiden · Kalmarunionen...   \n",
       " 31             NaN                                                NaN   \n",
       " 32          Portal                                             Portal   \n",
       " \n",
       "    v • rSverige.2  \n",
       " 0             NaN  \n",
       " 1             NaN  \n",
       " 2             NaN  \n",
       " 3             NaN  \n",
       " 4             NaN  \n",
       " 5             NaN  \n",
       " 6             NaN  \n",
       " 7             NaN  \n",
       " 8             NaN  \n",
       " 9             NaN  \n",
       " 10            NaN  \n",
       " 11            NaN  \n",
       " 12            NaN  \n",
       " 13            NaN  \n",
       " 14            NaN  \n",
       " 15            NaN  \n",
       " 16            NaN  \n",
       " 17            NaN  \n",
       " 18            NaN  \n",
       " 19            NaN  \n",
       " 20            NaN  \n",
       " 21            NaN  \n",
       " 22            NaN  \n",
       " 23            NaN  \n",
       " 24            NaN  \n",
       " 25            NaN  \n",
       " 26            NaN  \n",
       " 27            NaN  \n",
       " 28            NaN  \n",
       " 29            NaN  \n",
       " 30            NaN  \n",
       " 31            NaN  \n",
       " 32         Portal  ,\n",
       "                 0                                                  1\n",
       " 0      Statsskick  Grundlag · Statschef · Riksdag · Regering · La...\n",
       " 1             NaN                                                NaN\n",
       " 2         Försvar  Försvarsmakten · Armé · Marinen · Flygvapen · ...\n",
       " 3             NaN                                                NaN\n",
       " 4         Politik  Politiska partier · Politiska unioner · Europa...\n",
       " 5             NaN                                                NaN\n",
       " 6      Rättsväsen           Säkerhetspolis · Polis · Domstolsväsende\n",
       " 7             NaN                                                NaN\n",
       " 8  Administration  Svenska staten · Myndigheter · Län · Kommuner ...,\n",
       "           0                                                  1\n",
       " 0   Uttryck  Svenska språket · Litteratur · Konst · Arkitek...\n",
       " 1       NaN                                                NaN\n",
       " 2  Symbolik  Riksvapen · Flagga · Riksbaner · Riksregalier ...,\n",
       "            0                                                  1\n",
       " 0  Demografi  Svenskar · Språk · Historiska befolkningsstorl...\n",
       " 1        NaN                                                NaN\n",
       " 2  Massmedia  Internetdomän · Press · Dagstidningar · TV · R...\n",
       " 3        NaN                                                NaN\n",
       " 4    Ekonomi   Valuta · Riksbanken · Företag · Stockholmsbörsen,\n",
       "              0                                                  1\n",
       " 0  Territorium  Indelning · Klimat · Landsdelar · Landskap · V...,\n",
       "                0                                                  1\n",
       " 0    Förhistoria  Paleolitikum · Mesolitikum · Neolitikum · Bron...\n",
       " 1            NaN                                                NaN\n",
       " 2  Historisk tid  Äldre medeltid · Folkungatiden · Kalmarunionen...,\n",
       "                                                    0  \\\n",
       " 0  v • rSveriges demografiMajoritetsbefolkningSve...   \n",
       " 1                            v • rSveriges demografi   \n",
       " 2                                                NaN   \n",
       " 3  MajoritetsbefolkningSvenskarNationella minorit...   \n",
       " 4                               Majoritetsbefolkning   \n",
       " 5                                                NaN   \n",
       " 6                             Nationella minoriteter   \n",
       " 7                                                NaN   \n",
       " 8  Sveriges historia · Sveriges migrationshistori...   \n",
       " \n",
       "                                                    1   2  \n",
       " 0                                                NaN NaN  \n",
       " 1                            v • rSveriges demografi NaN  \n",
       " 2                                                NaN NaN  \n",
       " 3  MajoritetsbefolkningSvenskarNationella minorit... NaN  \n",
       " 4                                           Svenskar NaN  \n",
       " 5                                                NaN NaN  \n",
       " 6  Samer (urfolk) · Sverigefinnar · Tornedalingar... NaN  \n",
       " 7                                                NaN NaN  \n",
       " 8  Sveriges historia · Sveriges migrationshistori... NaN  ,\n",
       "                              v • rSveriges demografi  \\\n",
       " 0                                                NaN   \n",
       " 1  MajoritetsbefolkningSvenskarNationella minorit...   \n",
       " 2                               Majoritetsbefolkning   \n",
       " 3                                                NaN   \n",
       " 4                             Nationella minoriteter   \n",
       " 5                                                NaN   \n",
       " 6  Sveriges historia · Sveriges migrationshistori...   \n",
       " \n",
       "                            v • rSveriges demografi.1  Unnamed: 2  \n",
       " 0                                                NaN         NaN  \n",
       " 1  MajoritetsbefolkningSvenskarNationella minorit...         NaN  \n",
       " 2                                           Svenskar         NaN  \n",
       " 3                                                NaN         NaN  \n",
       " 4  Samer (urfolk) · Sverigefinnar · Tornedalingar...         NaN  \n",
       " 5                                                NaN         NaN  \n",
       " 6  Sveriges historia · Sveriges migrationshistori...         NaN  ,\n",
       "                         0                                                  1  \\\n",
       " 0    Majoritetsbefolkning                                           Svenskar   \n",
       " 1                     NaN                                                NaN   \n",
       " 2  Nationella minoriteter  Samer (urfolk) · Sverigefinnar · Tornedalingar...   \n",
       " \n",
       "     2  \n",
       " 0 NaN  \n",
       " 1 NaN  \n",
       " 2 NaN  ,\n",
       "                                                    0  \\\n",
       " 0  v • rEuropas demografiSjälvständiga staterAlba...   \n",
       " 1                             v • rEuropas demografi   \n",
       " 2                                                NaN   \n",
       " 3                               Självständiga stater   \n",
       " 4                                                NaN   \n",
       " 5                                  Särskilda områden   \n",
       " \n",
       "                                                    1  \n",
       " 0                                                NaN  \n",
       " 1                             v • rEuropas demografi  \n",
       " 2                                                NaN  \n",
       " 3  Albanien · Andorra · Belarus · Belgien · Bosni...  \n",
       " 4                                                NaN  \n",
       " 5  Athos · Färöarna · Gibraltar · Guernsey · Isle...  ,\n",
       "   v • rEuropas demografi                           v • rEuropas demografi.1\n",
       " 0                    NaN                                                NaN\n",
       " 1   Självständiga stater  Albanien · Andorra · Belarus · Belgien · Bosni...\n",
       " 2                    NaN                                                NaN\n",
       " 3      Särskilda områden  Athos · Färöarna · Gibraltar · Guernsey · Isle...]"
      ]
     },
     "execution_count": 78,
     "metadata": {},
     "output_type": "execute_result"
    }
   ],
   "source": [
    "link=\"https://sv.wikipedia.org/wiki/Sveriges_demografi\"\n",
    "import pandas as pd\n",
    "tables=pd.read_html(link)\n",
    "tables"
   ]
  },
  {
   "cell_type": "markdown",
   "metadata": {},
   "source": [
    " # a)\n",
    "  Read in the table under \"Befolkningsstatistik sedan 1900\" into a DataFrame"
   ]
  },
  {
   "cell_type": "code",
   "execution_count": 109,
   "metadata": {},
   "outputs": [
    {
     "data": {
      "text/html": [
       "<div>\n",
       "<style scoped>\n",
       "    .dataframe tbody tr th:only-of-type {\n",
       "        vertical-align: middle;\n",
       "    }\n",
       "\n",
       "    .dataframe tbody tr th {\n",
       "        vertical-align: top;\n",
       "    }\n",
       "\n",
       "    .dataframe thead th {\n",
       "        text-align: right;\n",
       "    }\n",
       "</style>\n",
       "<table border=\"1\" class=\"dataframe\">\n",
       "  <thead>\n",
       "    <tr style=\"text-align: right;\">\n",
       "      <th></th>\n",
       "      <th>Year</th>\n",
       "      <th>Folkmängd</th>\n",
       "      <th>Födda</th>\n",
       "      <th>Döda</th>\n",
       "      <th>Befolkningsförändringar</th>\n",
       "      <th>Nativiteten (per 1000)</th>\n",
       "      <th>Dödstalen (per 1000)</th>\n",
       "      <th>Befolkningsförändringar (per 1000)</th>\n",
       "      <th>Total fertilitet</th>\n",
       "    </tr>\n",
       "  </thead>\n",
       "  <tbody>\n",
       "    <tr>\n",
       "      <th>0</th>\n",
       "      <td>1900</td>\n",
       "      <td>5 117 000</td>\n",
       "      <td>138 139</td>\n",
       "      <td>86 146</td>\n",
       "      <td>51 993</td>\n",
       "      <td>270</td>\n",
       "      <td>168</td>\n",
       "      <td>102</td>\n",
       "      <td>402</td>\n",
       "    </tr>\n",
       "    <tr>\n",
       "      <th>1</th>\n",
       "      <td>1901</td>\n",
       "      <td>5 156 000</td>\n",
       "      <td>139 370</td>\n",
       "      <td>82 772</td>\n",
       "      <td>56 598</td>\n",
       "      <td>270</td>\n",
       "      <td>161</td>\n",
       "      <td>110</td>\n",
       "      <td>404</td>\n",
       "    </tr>\n",
       "    <tr>\n",
       "      <th>2</th>\n",
       "      <td>1902</td>\n",
       "      <td>5 187 000</td>\n",
       "      <td>137 364</td>\n",
       "      <td>79 722</td>\n",
       "      <td>57 642</td>\n",
       "      <td>265</td>\n",
       "      <td>154</td>\n",
       "      <td>111</td>\n",
       "      <td>395</td>\n",
       "    </tr>\n",
       "    <tr>\n",
       "      <th>3</th>\n",
       "      <td>1903</td>\n",
       "      <td>5 210 000</td>\n",
       "      <td>133 896</td>\n",
       "      <td>78 610</td>\n",
       "      <td>55 286</td>\n",
       "      <td>257</td>\n",
       "      <td>151</td>\n",
       "      <td>106</td>\n",
       "      <td>382</td>\n",
       "    </tr>\n",
       "    <tr>\n",
       "      <th>4</th>\n",
       "      <td>1904</td>\n",
       "      <td>5 241 000</td>\n",
       "      <td>134 952</td>\n",
       "      <td>80 152</td>\n",
       "      <td>54 800</td>\n",
       "      <td>257</td>\n",
       "      <td>153</td>\n",
       "      <td>105</td>\n",
       "      <td>383</td>\n",
       "    </tr>\n",
       "    <tr>\n",
       "      <th>...</th>\n",
       "      <td>...</td>\n",
       "      <td>...</td>\n",
       "      <td>...</td>\n",
       "      <td>...</td>\n",
       "      <td>...</td>\n",
       "      <td>...</td>\n",
       "      <td>...</td>\n",
       "      <td>...</td>\n",
       "      <td>...</td>\n",
       "    </tr>\n",
       "    <tr>\n",
       "      <th>116</th>\n",
       "      <td>2016</td>\n",
       "      <td>9 995 000</td>\n",
       "      <td>117 425</td>\n",
       "      <td>90 982</td>\n",
       "      <td>26 443</td>\n",
       "      <td>118</td>\n",
       "      <td>92</td>\n",
       "      <td>26</td>\n",
       "      <td>185</td>\n",
       "    </tr>\n",
       "    <tr>\n",
       "      <th>117</th>\n",
       "      <td>2017</td>\n",
       "      <td>10 120 000</td>\n",
       "      <td>115 416</td>\n",
       "      <td>91 972</td>\n",
       "      <td>23 444</td>\n",
       "      <td>114</td>\n",
       "      <td>91</td>\n",
       "      <td>23</td>\n",
       "      <td>179</td>\n",
       "    </tr>\n",
       "    <tr>\n",
       "      <th>118</th>\n",
       "      <td>2018</td>\n",
       "      <td>10 230 000</td>\n",
       "      <td>115 832</td>\n",
       "      <td>92 185</td>\n",
       "      <td>23 647</td>\n",
       "      <td>113</td>\n",
       "      <td>90</td>\n",
       "      <td>23</td>\n",
       "      <td>175</td>\n",
       "    </tr>\n",
       "    <tr>\n",
       "      <th>119</th>\n",
       "      <td>2019</td>\n",
       "      <td>10 327 589</td>\n",
       "      <td>114 523</td>\n",
       "      <td>88 766</td>\n",
       "      <td>28 727</td>\n",
       "      <td>111</td>\n",
       "      <td>87</td>\n",
       "      <td>24</td>\n",
       "      <td>170</td>\n",
       "    </tr>\n",
       "    <tr>\n",
       "      <th>120</th>\n",
       "      <td>2020</td>\n",
       "      <td>10 379 295</td>\n",
       "      <td>113 077</td>\n",
       "      <td>98 124</td>\n",
       "      <td>14 953</td>\n",
       "      <td>109</td>\n",
       "      <td>95</td>\n",
       "      <td>14</td>\n",
       "      <td>166</td>\n",
       "    </tr>\n",
       "  </tbody>\n",
       "</table>\n",
       "<p>121 rows × 9 columns</p>\n",
       "</div>"
      ],
      "text/plain": [
       "     Year   Folkmängd    Födda    Döda Befolkningsförändringar  \\\n",
       "0    1900   5 117 000  138 139  86 146                  51 993   \n",
       "1    1901   5 156 000  139 370  82 772                  56 598   \n",
       "2    1902   5 187 000  137 364  79 722                  57 642   \n",
       "3    1903   5 210 000  133 896  78 610                  55 286   \n",
       "4    1904   5 241 000  134 952  80 152                  54 800   \n",
       "..    ...         ...      ...     ...                     ...   \n",
       "116  2016   9 995 000  117 425  90 982                  26 443   \n",
       "117  2017  10 120 000  115 416  91 972                  23 444   \n",
       "118  2018  10 230 000  115 832  92 185                  23 647   \n",
       "119  2019  10 327 589  114 523  88 766                  28 727   \n",
       "120  2020  10 379 295  113 077  98 124                  14 953   \n",
       "\n",
       "     Nativiteten (per 1000)  Dödstalen (per 1000)  \\\n",
       "0                       270                   168   \n",
       "1                       270                   161   \n",
       "2                       265                   154   \n",
       "3                       257                   151   \n",
       "4                       257                   153   \n",
       "..                      ...                   ...   \n",
       "116                     118                    92   \n",
       "117                     114                    91   \n",
       "118                     113                    90   \n",
       "119                     111                    87   \n",
       "120                     109                    95   \n",
       "\n",
       "     Befolkningsförändringar (per 1000)  Total fertilitet  \n",
       "0                                   102               402  \n",
       "1                                   110               404  \n",
       "2                                   111               395  \n",
       "3                                   106               382  \n",
       "4                                   105               383  \n",
       "..                                  ...               ...  \n",
       "116                                  26               185  \n",
       "117                                  23               179  \n",
       "118                                  23               175  \n",
       "119                                  24               170  \n",
       "120                                  14               166  \n",
       "\n",
       "[121 rows x 9 columns]"
      ]
     },
     "execution_count": 109,
     "metadata": {},
     "output_type": "execute_result"
    }
   ],
   "source": [
    "df = tables[5] # 0 is first table in the html page ,5 is sex table in this page\n",
    "df1=df.rename(columns={\"Unnamed: 0\": \"Year\"})\n",
    "df1"
   ]
  },
  {
   "cell_type": "markdown",
   "metadata": {},
   "source": [
    "# b) \n",
    "Choose to do some EDA (exploratory data analysis) on this dataset. And draw some relevant graphs."
   ]
  },
  {
   "cell_type": "markdown",
   "metadata": {},
   "source": [
    "# Bar Chart"
   ]
  },
  {
   "cell_type": "code",
   "execution_count": 110,
   "metadata": {},
   "outputs": [
    {
     "data": {
      "application/vnd.plotly.v1+json": {
       "config": {
        "plotlyServerURL": "https://plot.ly"
       },
       "data": [
        {
         "alignmentgroup": "True",
         "hovertemplate": "Year=%{x}<br>Folkmängd=%{y}<extra></extra>",
         "legendgroup": "",
         "marker": {
          "color": "#636efa",
          "pattern": {
           "shape": ""
          }
         },
         "name": "",
         "offsetgroup": "",
         "orientation": "h",
         "showlegend": false,
         "textposition": "auto",
         "type": "bar",
         "x": [
          1900,
          1901,
          1902,
          1903,
          1904,
          1905,
          1906,
          1907,
          1908,
          1909,
          1910,
          1911,
          1912,
          1913,
          1914,
          1915,
          1916,
          1917,
          1918,
          1919,
          1920,
          1921,
          1922,
          1923,
          1924,
          1925,
          1926,
          1927,
          1928,
          1929,
          1930,
          1931,
          1932,
          1933,
          1934,
          1935,
          1936,
          1937,
          1938,
          1939,
          1940,
          1941,
          1942,
          1943,
          1944,
          1945,
          1946,
          1947,
          1948,
          1949,
          1950,
          1951,
          1952,
          1953,
          1954,
          1955,
          1956,
          1957,
          1958,
          1959,
          1960,
          1961,
          1962,
          1963,
          1964,
          1965,
          1966,
          1967,
          1968,
          1969,
          1970,
          1971,
          1972,
          1973,
          1974,
          1975,
          1976,
          1977,
          1978,
          1979,
          1980,
          1981,
          1982,
          1983,
          1984,
          1985,
          1986,
          1987,
          1988,
          1989,
          1990,
          1991,
          1992,
          1993,
          1994,
          1995,
          1996,
          1997,
          1998,
          1999,
          2000,
          2001,
          2002,
          2003,
          2004,
          2005,
          2006,
          2007,
          2008,
          2009,
          2010,
          2011,
          2012,
          2013,
          2014,
          2015,
          2016,
          2017,
          2018,
          2019,
          2020
         ],
         "xaxis": "x",
         "y": [
          "5 117 000",
          "5 156 000",
          "5 187 000",
          "5 210 000",
          "5 241 000",
          "5 278 000",
          "5 316 000",
          "5 357 000",
          "5 404 000",
          "5 453 000",
          "5 499 000",
          "5 542 000",
          "5 583 000",
          "5 621 000",
          "5 659 000",
          "5 696 000",
          "5 735 000",
          "5 779 000",
          "5 807 000",
          "5 830 000",
          "5 876 000",
          "5 929 000",
          "5 971 000",
          "5 997 000",
          "6 021 000",
          "6 045 000",
          "6 064 000",
          "6 081 000",
          "6 097 000",
          "6 113 000",
          "6 131 000",
          "6 152 000",
          "6 176 000",
          "6 201 000",
          "6 222 000",
          "6 242 000",
          "6 259 000",
          "6 276 000",
          "6 297 000",
          "6 326 000",
          "6 356 000",
          "6 389 000",
          "6 432 000",
          "6 491 000",
          "6 560 000",
          "6 636 000",
          "6 719 000",
          "6 803 000",
          "6 883 000",
          "6 956 000",
          "7 014 000",
          "7 073 000",
          "7 125 000",
          "7 171 000",
          "7 213 000",
          "7 262 000",
          "7 315 000",
          "7 364 000",
          "7 409 000",
          "7 446 000",
          "7 480 000",
          "7 520 000",
          "7 562 000",
          "7 604 000",
          "7 661 000",
          "7 734 000",
          "7 808 000",
          "7 868 000",
          "7 914 000",
          "7 968 000",
          "8 043 000",
          "8 098 000",
          "8 122 000",
          "8 137 000",
          "8 161 000",
          "8 193 000",
          "8 222 000",
          "8 252 000",
          "8 276 000",
          "8 294 000",
          "8 310 000",
          "8 320 000",
          "8 325 000",
          "8 329 000",
          "8 337 000",
          "8 350 000",
          "8 370 000",
          "8 398 000",
          "8 437 000",
          "8 493 000",
          "8 559 000",
          "8 617 000",
          "8 668 000",
          "8 719 000",
          "8 781 000",
          "8 831 000",
          "8 843 000",
          "8 846 000",
          "8 851 000",
          "8 858 000",
          "8 872 000",
          "8 896 000",
          "8 925 000",
          "8 958 000",
          "8 994 000",
          "9 030 000",
          "9 081 000",
          "9 148 000",
          "9 220 000",
          "9 299 000",
          "9 378 000",
          "9 449 000",
          "9 519 000",
          "9 644 000",
          "9 747 000",
          "9 851 000",
          "9 995 000",
          "10 120 000",
          "10 230 000",
          "10 327 589",
          "10 379 295"
         ],
         "yaxis": "y"
        }
       ],
       "layout": {
        "barmode": "relative",
        "legend": {
         "tracegroupgap": 0
        },
        "template": {
         "data": {
          "bar": [
           {
            "error_x": {
             "color": "#2a3f5f"
            },
            "error_y": {
             "color": "#2a3f5f"
            },
            "marker": {
             "line": {
              "color": "#E5ECF6",
              "width": 0.5
             },
             "pattern": {
              "fillmode": "overlay",
              "size": 10,
              "solidity": 0.2
             }
            },
            "type": "bar"
           }
          ],
          "barpolar": [
           {
            "marker": {
             "line": {
              "color": "#E5ECF6",
              "width": 0.5
             },
             "pattern": {
              "fillmode": "overlay",
              "size": 10,
              "solidity": 0.2
             }
            },
            "type": "barpolar"
           }
          ],
          "carpet": [
           {
            "aaxis": {
             "endlinecolor": "#2a3f5f",
             "gridcolor": "white",
             "linecolor": "white",
             "minorgridcolor": "white",
             "startlinecolor": "#2a3f5f"
            },
            "baxis": {
             "endlinecolor": "#2a3f5f",
             "gridcolor": "white",
             "linecolor": "white",
             "minorgridcolor": "white",
             "startlinecolor": "#2a3f5f"
            },
            "type": "carpet"
           }
          ],
          "choropleth": [
           {
            "colorbar": {
             "outlinewidth": 0,
             "ticks": ""
            },
            "type": "choropleth"
           }
          ],
          "contour": [
           {
            "colorbar": {
             "outlinewidth": 0,
             "ticks": ""
            },
            "colorscale": [
             [
              0,
              "#0d0887"
             ],
             [
              0.1111111111111111,
              "#46039f"
             ],
             [
              0.2222222222222222,
              "#7201a8"
             ],
             [
              0.3333333333333333,
              "#9c179e"
             ],
             [
              0.4444444444444444,
              "#bd3786"
             ],
             [
              0.5555555555555556,
              "#d8576b"
             ],
             [
              0.6666666666666666,
              "#ed7953"
             ],
             [
              0.7777777777777778,
              "#fb9f3a"
             ],
             [
              0.8888888888888888,
              "#fdca26"
             ],
             [
              1,
              "#f0f921"
             ]
            ],
            "type": "contour"
           }
          ],
          "contourcarpet": [
           {
            "colorbar": {
             "outlinewidth": 0,
             "ticks": ""
            },
            "type": "contourcarpet"
           }
          ],
          "heatmap": [
           {
            "colorbar": {
             "outlinewidth": 0,
             "ticks": ""
            },
            "colorscale": [
             [
              0,
              "#0d0887"
             ],
             [
              0.1111111111111111,
              "#46039f"
             ],
             [
              0.2222222222222222,
              "#7201a8"
             ],
             [
              0.3333333333333333,
              "#9c179e"
             ],
             [
              0.4444444444444444,
              "#bd3786"
             ],
             [
              0.5555555555555556,
              "#d8576b"
             ],
             [
              0.6666666666666666,
              "#ed7953"
             ],
             [
              0.7777777777777778,
              "#fb9f3a"
             ],
             [
              0.8888888888888888,
              "#fdca26"
             ],
             [
              1,
              "#f0f921"
             ]
            ],
            "type": "heatmap"
           }
          ],
          "heatmapgl": [
           {
            "colorbar": {
             "outlinewidth": 0,
             "ticks": ""
            },
            "colorscale": [
             [
              0,
              "#0d0887"
             ],
             [
              0.1111111111111111,
              "#46039f"
             ],
             [
              0.2222222222222222,
              "#7201a8"
             ],
             [
              0.3333333333333333,
              "#9c179e"
             ],
             [
              0.4444444444444444,
              "#bd3786"
             ],
             [
              0.5555555555555556,
              "#d8576b"
             ],
             [
              0.6666666666666666,
              "#ed7953"
             ],
             [
              0.7777777777777778,
              "#fb9f3a"
             ],
             [
              0.8888888888888888,
              "#fdca26"
             ],
             [
              1,
              "#f0f921"
             ]
            ],
            "type": "heatmapgl"
           }
          ],
          "histogram": [
           {
            "marker": {
             "pattern": {
              "fillmode": "overlay",
              "size": 10,
              "solidity": 0.2
             }
            },
            "type": "histogram"
           }
          ],
          "histogram2d": [
           {
            "colorbar": {
             "outlinewidth": 0,
             "ticks": ""
            },
            "colorscale": [
             [
              0,
              "#0d0887"
             ],
             [
              0.1111111111111111,
              "#46039f"
             ],
             [
              0.2222222222222222,
              "#7201a8"
             ],
             [
              0.3333333333333333,
              "#9c179e"
             ],
             [
              0.4444444444444444,
              "#bd3786"
             ],
             [
              0.5555555555555556,
              "#d8576b"
             ],
             [
              0.6666666666666666,
              "#ed7953"
             ],
             [
              0.7777777777777778,
              "#fb9f3a"
             ],
             [
              0.8888888888888888,
              "#fdca26"
             ],
             [
              1,
              "#f0f921"
             ]
            ],
            "type": "histogram2d"
           }
          ],
          "histogram2dcontour": [
           {
            "colorbar": {
             "outlinewidth": 0,
             "ticks": ""
            },
            "colorscale": [
             [
              0,
              "#0d0887"
             ],
             [
              0.1111111111111111,
              "#46039f"
             ],
             [
              0.2222222222222222,
              "#7201a8"
             ],
             [
              0.3333333333333333,
              "#9c179e"
             ],
             [
              0.4444444444444444,
              "#bd3786"
             ],
             [
              0.5555555555555556,
              "#d8576b"
             ],
             [
              0.6666666666666666,
              "#ed7953"
             ],
             [
              0.7777777777777778,
              "#fb9f3a"
             ],
             [
              0.8888888888888888,
              "#fdca26"
             ],
             [
              1,
              "#f0f921"
             ]
            ],
            "type": "histogram2dcontour"
           }
          ],
          "mesh3d": [
           {
            "colorbar": {
             "outlinewidth": 0,
             "ticks": ""
            },
            "type": "mesh3d"
           }
          ],
          "parcoords": [
           {
            "line": {
             "colorbar": {
              "outlinewidth": 0,
              "ticks": ""
             }
            },
            "type": "parcoords"
           }
          ],
          "pie": [
           {
            "automargin": true,
            "type": "pie"
           }
          ],
          "scatter": [
           {
            "marker": {
             "colorbar": {
              "outlinewidth": 0,
              "ticks": ""
             }
            },
            "type": "scatter"
           }
          ],
          "scatter3d": [
           {
            "line": {
             "colorbar": {
              "outlinewidth": 0,
              "ticks": ""
             }
            },
            "marker": {
             "colorbar": {
              "outlinewidth": 0,
              "ticks": ""
             }
            },
            "type": "scatter3d"
           }
          ],
          "scattercarpet": [
           {
            "marker": {
             "colorbar": {
              "outlinewidth": 0,
              "ticks": ""
             }
            },
            "type": "scattercarpet"
           }
          ],
          "scattergeo": [
           {
            "marker": {
             "colorbar": {
              "outlinewidth": 0,
              "ticks": ""
             }
            },
            "type": "scattergeo"
           }
          ],
          "scattergl": [
           {
            "marker": {
             "colorbar": {
              "outlinewidth": 0,
              "ticks": ""
             }
            },
            "type": "scattergl"
           }
          ],
          "scattermapbox": [
           {
            "marker": {
             "colorbar": {
              "outlinewidth": 0,
              "ticks": ""
             }
            },
            "type": "scattermapbox"
           }
          ],
          "scatterpolar": [
           {
            "marker": {
             "colorbar": {
              "outlinewidth": 0,
              "ticks": ""
             }
            },
            "type": "scatterpolar"
           }
          ],
          "scatterpolargl": [
           {
            "marker": {
             "colorbar": {
              "outlinewidth": 0,
              "ticks": ""
             }
            },
            "type": "scatterpolargl"
           }
          ],
          "scatterternary": [
           {
            "marker": {
             "colorbar": {
              "outlinewidth": 0,
              "ticks": ""
             }
            },
            "type": "scatterternary"
           }
          ],
          "surface": [
           {
            "colorbar": {
             "outlinewidth": 0,
             "ticks": ""
            },
            "colorscale": [
             [
              0,
              "#0d0887"
             ],
             [
              0.1111111111111111,
              "#46039f"
             ],
             [
              0.2222222222222222,
              "#7201a8"
             ],
             [
              0.3333333333333333,
              "#9c179e"
             ],
             [
              0.4444444444444444,
              "#bd3786"
             ],
             [
              0.5555555555555556,
              "#d8576b"
             ],
             [
              0.6666666666666666,
              "#ed7953"
             ],
             [
              0.7777777777777778,
              "#fb9f3a"
             ],
             [
              0.8888888888888888,
              "#fdca26"
             ],
             [
              1,
              "#f0f921"
             ]
            ],
            "type": "surface"
           }
          ],
          "table": [
           {
            "cells": {
             "fill": {
              "color": "#EBF0F8"
             },
             "line": {
              "color": "white"
             }
            },
            "header": {
             "fill": {
              "color": "#C8D4E3"
             },
             "line": {
              "color": "white"
             }
            },
            "type": "table"
           }
          ]
         },
         "layout": {
          "annotationdefaults": {
           "arrowcolor": "#2a3f5f",
           "arrowhead": 0,
           "arrowwidth": 1
          },
          "autotypenumbers": "strict",
          "coloraxis": {
           "colorbar": {
            "outlinewidth": 0,
            "ticks": ""
           }
          },
          "colorscale": {
           "diverging": [
            [
             0,
             "#8e0152"
            ],
            [
             0.1,
             "#c51b7d"
            ],
            [
             0.2,
             "#de77ae"
            ],
            [
             0.3,
             "#f1b6da"
            ],
            [
             0.4,
             "#fde0ef"
            ],
            [
             0.5,
             "#f7f7f7"
            ],
            [
             0.6,
             "#e6f5d0"
            ],
            [
             0.7,
             "#b8e186"
            ],
            [
             0.8,
             "#7fbc41"
            ],
            [
             0.9,
             "#4d9221"
            ],
            [
             1,
             "#276419"
            ]
           ],
           "sequential": [
            [
             0,
             "#0d0887"
            ],
            [
             0.1111111111111111,
             "#46039f"
            ],
            [
             0.2222222222222222,
             "#7201a8"
            ],
            [
             0.3333333333333333,
             "#9c179e"
            ],
            [
             0.4444444444444444,
             "#bd3786"
            ],
            [
             0.5555555555555556,
             "#d8576b"
            ],
            [
             0.6666666666666666,
             "#ed7953"
            ],
            [
             0.7777777777777778,
             "#fb9f3a"
            ],
            [
             0.8888888888888888,
             "#fdca26"
            ],
            [
             1,
             "#f0f921"
            ]
           ],
           "sequentialminus": [
            [
             0,
             "#0d0887"
            ],
            [
             0.1111111111111111,
             "#46039f"
            ],
            [
             0.2222222222222222,
             "#7201a8"
            ],
            [
             0.3333333333333333,
             "#9c179e"
            ],
            [
             0.4444444444444444,
             "#bd3786"
            ],
            [
             0.5555555555555556,
             "#d8576b"
            ],
            [
             0.6666666666666666,
             "#ed7953"
            ],
            [
             0.7777777777777778,
             "#fb9f3a"
            ],
            [
             0.8888888888888888,
             "#fdca26"
            ],
            [
             1,
             "#f0f921"
            ]
           ]
          },
          "colorway": [
           "#636efa",
           "#EF553B",
           "#00cc96",
           "#ab63fa",
           "#FFA15A",
           "#19d3f3",
           "#FF6692",
           "#B6E880",
           "#FF97FF",
           "#FECB52"
          ],
          "font": {
           "color": "#2a3f5f"
          },
          "geo": {
           "bgcolor": "white",
           "lakecolor": "white",
           "landcolor": "#E5ECF6",
           "showlakes": true,
           "showland": true,
           "subunitcolor": "white"
          },
          "hoverlabel": {
           "align": "left"
          },
          "hovermode": "closest",
          "mapbox": {
           "style": "light"
          },
          "paper_bgcolor": "white",
          "plot_bgcolor": "#E5ECF6",
          "polar": {
           "angularaxis": {
            "gridcolor": "white",
            "linecolor": "white",
            "ticks": ""
           },
           "bgcolor": "#E5ECF6",
           "radialaxis": {
            "gridcolor": "white",
            "linecolor": "white",
            "ticks": ""
           }
          },
          "scene": {
           "xaxis": {
            "backgroundcolor": "#E5ECF6",
            "gridcolor": "white",
            "gridwidth": 2,
            "linecolor": "white",
            "showbackground": true,
            "ticks": "",
            "zerolinecolor": "white"
           },
           "yaxis": {
            "backgroundcolor": "#E5ECF6",
            "gridcolor": "white",
            "gridwidth": 2,
            "linecolor": "white",
            "showbackground": true,
            "ticks": "",
            "zerolinecolor": "white"
           },
           "zaxis": {
            "backgroundcolor": "#E5ECF6",
            "gridcolor": "white",
            "gridwidth": 2,
            "linecolor": "white",
            "showbackground": true,
            "ticks": "",
            "zerolinecolor": "white"
           }
          },
          "shapedefaults": {
           "line": {
            "color": "#2a3f5f"
           }
          },
          "ternary": {
           "aaxis": {
            "gridcolor": "white",
            "linecolor": "white",
            "ticks": ""
           },
           "baxis": {
            "gridcolor": "white",
            "linecolor": "white",
            "ticks": ""
           },
           "bgcolor": "#E5ECF6",
           "caxis": {
            "gridcolor": "white",
            "linecolor": "white",
            "ticks": ""
           }
          },
          "title": {
           "x": 0.05
          },
          "xaxis": {
           "automargin": true,
           "gridcolor": "white",
           "linecolor": "white",
           "ticks": "",
           "title": {
            "standoff": 15
           },
           "zerolinecolor": "white",
           "zerolinewidth": 2
          },
          "yaxis": {
           "automargin": true,
           "gridcolor": "white",
           "linecolor": "white",
           "ticks": "",
           "title": {
            "standoff": 15
           },
           "zerolinecolor": "white",
           "zerolinewidth": 2
          }
         }
        },
        "title": {
         "text": "Sweden population 1900-2020"
        },
        "xaxis": {
         "anchor": "y",
         "domain": [
          0,
          1
         ],
         "range": [
          1900,
          2020
         ],
         "title": {
          "text": "Year"
         }
        },
        "yaxis": {
         "anchor": "x",
         "domain": [
          0,
          1
         ],
         "title": {
          "text": "Folkmängd"
         }
        }
       }
      }
     },
     "metadata": {},
     "output_type": "display_data"
    }
   ],
   "source": [
    "import plotly_express as px \n",
    "import matplotlib.pyplot as plt\n",
    "fig=px.bar(df1,x=\"Year\",y=\"Folkmängd\",title=\"Sweden population 1900-2020\",range_x=[1900,2020])\n",
    "fig.show()\n"
   ]
  },
  {
   "cell_type": "markdown",
   "metadata": {},
   "source": [
    "# Line Chart"
   ]
  },
  {
   "cell_type": "code",
   "execution_count": 116,
   "metadata": {},
   "outputs": [
    {
     "data": {
      "application/vnd.plotly.v1+json": {
       "config": {
        "plotlyServerURL": "https://plot.ly"
       },
       "data": [
        {
         "hovertemplate": "Year=%{x}<br>Folkmängd=%{y}<extra></extra>",
         "legendgroup": "",
         "line": {
          "color": "#636efa",
          "dash": "solid"
         },
         "marker": {
          "symbol": "circle"
         },
         "mode": "lines",
         "name": "",
         "orientation": "h",
         "showlegend": false,
         "type": "scatter",
         "x": [
          1900,
          1901,
          1902,
          1903,
          1904,
          1905,
          1906,
          1907,
          1908,
          1909,
          1910,
          1911,
          1912,
          1913,
          1914,
          1915,
          1916,
          1917,
          1918,
          1919,
          1920,
          1921,
          1922,
          1923,
          1924,
          1925,
          1926,
          1927,
          1928,
          1929,
          1930,
          1931,
          1932,
          1933,
          1934,
          1935,
          1936,
          1937,
          1938,
          1939,
          1940,
          1941,
          1942,
          1943,
          1944,
          1945,
          1946,
          1947,
          1948,
          1949,
          1950,
          1951,
          1952,
          1953,
          1954,
          1955,
          1956,
          1957,
          1958,
          1959,
          1960,
          1961,
          1962,
          1963,
          1964,
          1965,
          1966,
          1967,
          1968,
          1969,
          1970,
          1971,
          1972,
          1973,
          1974,
          1975,
          1976,
          1977,
          1978,
          1979,
          1980,
          1981,
          1982,
          1983,
          1984,
          1985,
          1986,
          1987,
          1988,
          1989,
          1990,
          1991,
          1992,
          1993,
          1994,
          1995,
          1996,
          1997,
          1998,
          1999,
          2000,
          2001,
          2002,
          2003,
          2004,
          2005,
          2006,
          2007,
          2008,
          2009,
          2010,
          2011,
          2012,
          2013,
          2014,
          2015,
          2016,
          2017,
          2018,
          2019,
          2020
         ],
         "xaxis": "x",
         "y": [
          "5 117 000",
          "5 156 000",
          "5 187 000",
          "5 210 000",
          "5 241 000",
          "5 278 000",
          "5 316 000",
          "5 357 000",
          "5 404 000",
          "5 453 000",
          "5 499 000",
          "5 542 000",
          "5 583 000",
          "5 621 000",
          "5 659 000",
          "5 696 000",
          "5 735 000",
          "5 779 000",
          "5 807 000",
          "5 830 000",
          "5 876 000",
          "5 929 000",
          "5 971 000",
          "5 997 000",
          "6 021 000",
          "6 045 000",
          "6 064 000",
          "6 081 000",
          "6 097 000",
          "6 113 000",
          "6 131 000",
          "6 152 000",
          "6 176 000",
          "6 201 000",
          "6 222 000",
          "6 242 000",
          "6 259 000",
          "6 276 000",
          "6 297 000",
          "6 326 000",
          "6 356 000",
          "6 389 000",
          "6 432 000",
          "6 491 000",
          "6 560 000",
          "6 636 000",
          "6 719 000",
          "6 803 000",
          "6 883 000",
          "6 956 000",
          "7 014 000",
          "7 073 000",
          "7 125 000",
          "7 171 000",
          "7 213 000",
          "7 262 000",
          "7 315 000",
          "7 364 000",
          "7 409 000",
          "7 446 000",
          "7 480 000",
          "7 520 000",
          "7 562 000",
          "7 604 000",
          "7 661 000",
          "7 734 000",
          "7 808 000",
          "7 868 000",
          "7 914 000",
          "7 968 000",
          "8 043 000",
          "8 098 000",
          "8 122 000",
          "8 137 000",
          "8 161 000",
          "8 193 000",
          "8 222 000",
          "8 252 000",
          "8 276 000",
          "8 294 000",
          "8 310 000",
          "8 320 000",
          "8 325 000",
          "8 329 000",
          "8 337 000",
          "8 350 000",
          "8 370 000",
          "8 398 000",
          "8 437 000",
          "8 493 000",
          "8 559 000",
          "8 617 000",
          "8 668 000",
          "8 719 000",
          "8 781 000",
          "8 831 000",
          "8 843 000",
          "8 846 000",
          "8 851 000",
          "8 858 000",
          "8 872 000",
          "8 896 000",
          "8 925 000",
          "8 958 000",
          "8 994 000",
          "9 030 000",
          "9 081 000",
          "9 148 000",
          "9 220 000",
          "9 299 000",
          "9 378 000",
          "9 449 000",
          "9 519 000",
          "9 644 000",
          "9 747 000",
          "9 851 000",
          "9 995 000",
          "10 120 000",
          "10 230 000",
          "10 327 589",
          "10 379 295"
         ],
         "yaxis": "y"
        }
       ],
       "layout": {
        "legend": {
         "tracegroupgap": 0
        },
        "template": {
         "data": {
          "bar": [
           {
            "error_x": {
             "color": "#2a3f5f"
            },
            "error_y": {
             "color": "#2a3f5f"
            },
            "marker": {
             "line": {
              "color": "#E5ECF6",
              "width": 0.5
             },
             "pattern": {
              "fillmode": "overlay",
              "size": 10,
              "solidity": 0.2
             }
            },
            "type": "bar"
           }
          ],
          "barpolar": [
           {
            "marker": {
             "line": {
              "color": "#E5ECF6",
              "width": 0.5
             },
             "pattern": {
              "fillmode": "overlay",
              "size": 10,
              "solidity": 0.2
             }
            },
            "type": "barpolar"
           }
          ],
          "carpet": [
           {
            "aaxis": {
             "endlinecolor": "#2a3f5f",
             "gridcolor": "white",
             "linecolor": "white",
             "minorgridcolor": "white",
             "startlinecolor": "#2a3f5f"
            },
            "baxis": {
             "endlinecolor": "#2a3f5f",
             "gridcolor": "white",
             "linecolor": "white",
             "minorgridcolor": "white",
             "startlinecolor": "#2a3f5f"
            },
            "type": "carpet"
           }
          ],
          "choropleth": [
           {
            "colorbar": {
             "outlinewidth": 0,
             "ticks": ""
            },
            "type": "choropleth"
           }
          ],
          "contour": [
           {
            "colorbar": {
             "outlinewidth": 0,
             "ticks": ""
            },
            "colorscale": [
             [
              0,
              "#0d0887"
             ],
             [
              0.1111111111111111,
              "#46039f"
             ],
             [
              0.2222222222222222,
              "#7201a8"
             ],
             [
              0.3333333333333333,
              "#9c179e"
             ],
             [
              0.4444444444444444,
              "#bd3786"
             ],
             [
              0.5555555555555556,
              "#d8576b"
             ],
             [
              0.6666666666666666,
              "#ed7953"
             ],
             [
              0.7777777777777778,
              "#fb9f3a"
             ],
             [
              0.8888888888888888,
              "#fdca26"
             ],
             [
              1,
              "#f0f921"
             ]
            ],
            "type": "contour"
           }
          ],
          "contourcarpet": [
           {
            "colorbar": {
             "outlinewidth": 0,
             "ticks": ""
            },
            "type": "contourcarpet"
           }
          ],
          "heatmap": [
           {
            "colorbar": {
             "outlinewidth": 0,
             "ticks": ""
            },
            "colorscale": [
             [
              0,
              "#0d0887"
             ],
             [
              0.1111111111111111,
              "#46039f"
             ],
             [
              0.2222222222222222,
              "#7201a8"
             ],
             [
              0.3333333333333333,
              "#9c179e"
             ],
             [
              0.4444444444444444,
              "#bd3786"
             ],
             [
              0.5555555555555556,
              "#d8576b"
             ],
             [
              0.6666666666666666,
              "#ed7953"
             ],
             [
              0.7777777777777778,
              "#fb9f3a"
             ],
             [
              0.8888888888888888,
              "#fdca26"
             ],
             [
              1,
              "#f0f921"
             ]
            ],
            "type": "heatmap"
           }
          ],
          "heatmapgl": [
           {
            "colorbar": {
             "outlinewidth": 0,
             "ticks": ""
            },
            "colorscale": [
             [
              0,
              "#0d0887"
             ],
             [
              0.1111111111111111,
              "#46039f"
             ],
             [
              0.2222222222222222,
              "#7201a8"
             ],
             [
              0.3333333333333333,
              "#9c179e"
             ],
             [
              0.4444444444444444,
              "#bd3786"
             ],
             [
              0.5555555555555556,
              "#d8576b"
             ],
             [
              0.6666666666666666,
              "#ed7953"
             ],
             [
              0.7777777777777778,
              "#fb9f3a"
             ],
             [
              0.8888888888888888,
              "#fdca26"
             ],
             [
              1,
              "#f0f921"
             ]
            ],
            "type": "heatmapgl"
           }
          ],
          "histogram": [
           {
            "marker": {
             "pattern": {
              "fillmode": "overlay",
              "size": 10,
              "solidity": 0.2
             }
            },
            "type": "histogram"
           }
          ],
          "histogram2d": [
           {
            "colorbar": {
             "outlinewidth": 0,
             "ticks": ""
            },
            "colorscale": [
             [
              0,
              "#0d0887"
             ],
             [
              0.1111111111111111,
              "#46039f"
             ],
             [
              0.2222222222222222,
              "#7201a8"
             ],
             [
              0.3333333333333333,
              "#9c179e"
             ],
             [
              0.4444444444444444,
              "#bd3786"
             ],
             [
              0.5555555555555556,
              "#d8576b"
             ],
             [
              0.6666666666666666,
              "#ed7953"
             ],
             [
              0.7777777777777778,
              "#fb9f3a"
             ],
             [
              0.8888888888888888,
              "#fdca26"
             ],
             [
              1,
              "#f0f921"
             ]
            ],
            "type": "histogram2d"
           }
          ],
          "histogram2dcontour": [
           {
            "colorbar": {
             "outlinewidth": 0,
             "ticks": ""
            },
            "colorscale": [
             [
              0,
              "#0d0887"
             ],
             [
              0.1111111111111111,
              "#46039f"
             ],
             [
              0.2222222222222222,
              "#7201a8"
             ],
             [
              0.3333333333333333,
              "#9c179e"
             ],
             [
              0.4444444444444444,
              "#bd3786"
             ],
             [
              0.5555555555555556,
              "#d8576b"
             ],
             [
              0.6666666666666666,
              "#ed7953"
             ],
             [
              0.7777777777777778,
              "#fb9f3a"
             ],
             [
              0.8888888888888888,
              "#fdca26"
             ],
             [
              1,
              "#f0f921"
             ]
            ],
            "type": "histogram2dcontour"
           }
          ],
          "mesh3d": [
           {
            "colorbar": {
             "outlinewidth": 0,
             "ticks": ""
            },
            "type": "mesh3d"
           }
          ],
          "parcoords": [
           {
            "line": {
             "colorbar": {
              "outlinewidth": 0,
              "ticks": ""
             }
            },
            "type": "parcoords"
           }
          ],
          "pie": [
           {
            "automargin": true,
            "type": "pie"
           }
          ],
          "scatter": [
           {
            "marker": {
             "colorbar": {
              "outlinewidth": 0,
              "ticks": ""
             }
            },
            "type": "scatter"
           }
          ],
          "scatter3d": [
           {
            "line": {
             "colorbar": {
              "outlinewidth": 0,
              "ticks": ""
             }
            },
            "marker": {
             "colorbar": {
              "outlinewidth": 0,
              "ticks": ""
             }
            },
            "type": "scatter3d"
           }
          ],
          "scattercarpet": [
           {
            "marker": {
             "colorbar": {
              "outlinewidth": 0,
              "ticks": ""
             }
            },
            "type": "scattercarpet"
           }
          ],
          "scattergeo": [
           {
            "marker": {
             "colorbar": {
              "outlinewidth": 0,
              "ticks": ""
             }
            },
            "type": "scattergeo"
           }
          ],
          "scattergl": [
           {
            "marker": {
             "colorbar": {
              "outlinewidth": 0,
              "ticks": ""
             }
            },
            "type": "scattergl"
           }
          ],
          "scattermapbox": [
           {
            "marker": {
             "colorbar": {
              "outlinewidth": 0,
              "ticks": ""
             }
            },
            "type": "scattermapbox"
           }
          ],
          "scatterpolar": [
           {
            "marker": {
             "colorbar": {
              "outlinewidth": 0,
              "ticks": ""
             }
            },
            "type": "scatterpolar"
           }
          ],
          "scatterpolargl": [
           {
            "marker": {
             "colorbar": {
              "outlinewidth": 0,
              "ticks": ""
             }
            },
            "type": "scatterpolargl"
           }
          ],
          "scatterternary": [
           {
            "marker": {
             "colorbar": {
              "outlinewidth": 0,
              "ticks": ""
             }
            },
            "type": "scatterternary"
           }
          ],
          "surface": [
           {
            "colorbar": {
             "outlinewidth": 0,
             "ticks": ""
            },
            "colorscale": [
             [
              0,
              "#0d0887"
             ],
             [
              0.1111111111111111,
              "#46039f"
             ],
             [
              0.2222222222222222,
              "#7201a8"
             ],
             [
              0.3333333333333333,
              "#9c179e"
             ],
             [
              0.4444444444444444,
              "#bd3786"
             ],
             [
              0.5555555555555556,
              "#d8576b"
             ],
             [
              0.6666666666666666,
              "#ed7953"
             ],
             [
              0.7777777777777778,
              "#fb9f3a"
             ],
             [
              0.8888888888888888,
              "#fdca26"
             ],
             [
              1,
              "#f0f921"
             ]
            ],
            "type": "surface"
           }
          ],
          "table": [
           {
            "cells": {
             "fill": {
              "color": "#EBF0F8"
             },
             "line": {
              "color": "white"
             }
            },
            "header": {
             "fill": {
              "color": "#C8D4E3"
             },
             "line": {
              "color": "white"
             }
            },
            "type": "table"
           }
          ]
         },
         "layout": {
          "annotationdefaults": {
           "arrowcolor": "#2a3f5f",
           "arrowhead": 0,
           "arrowwidth": 1
          },
          "autotypenumbers": "strict",
          "coloraxis": {
           "colorbar": {
            "outlinewidth": 0,
            "ticks": ""
           }
          },
          "colorscale": {
           "diverging": [
            [
             0,
             "#8e0152"
            ],
            [
             0.1,
             "#c51b7d"
            ],
            [
             0.2,
             "#de77ae"
            ],
            [
             0.3,
             "#f1b6da"
            ],
            [
             0.4,
             "#fde0ef"
            ],
            [
             0.5,
             "#f7f7f7"
            ],
            [
             0.6,
             "#e6f5d0"
            ],
            [
             0.7,
             "#b8e186"
            ],
            [
             0.8,
             "#7fbc41"
            ],
            [
             0.9,
             "#4d9221"
            ],
            [
             1,
             "#276419"
            ]
           ],
           "sequential": [
            [
             0,
             "#0d0887"
            ],
            [
             0.1111111111111111,
             "#46039f"
            ],
            [
             0.2222222222222222,
             "#7201a8"
            ],
            [
             0.3333333333333333,
             "#9c179e"
            ],
            [
             0.4444444444444444,
             "#bd3786"
            ],
            [
             0.5555555555555556,
             "#d8576b"
            ],
            [
             0.6666666666666666,
             "#ed7953"
            ],
            [
             0.7777777777777778,
             "#fb9f3a"
            ],
            [
             0.8888888888888888,
             "#fdca26"
            ],
            [
             1,
             "#f0f921"
            ]
           ],
           "sequentialminus": [
            [
             0,
             "#0d0887"
            ],
            [
             0.1111111111111111,
             "#46039f"
            ],
            [
             0.2222222222222222,
             "#7201a8"
            ],
            [
             0.3333333333333333,
             "#9c179e"
            ],
            [
             0.4444444444444444,
             "#bd3786"
            ],
            [
             0.5555555555555556,
             "#d8576b"
            ],
            [
             0.6666666666666666,
             "#ed7953"
            ],
            [
             0.7777777777777778,
             "#fb9f3a"
            ],
            [
             0.8888888888888888,
             "#fdca26"
            ],
            [
             1,
             "#f0f921"
            ]
           ]
          },
          "colorway": [
           "#636efa",
           "#EF553B",
           "#00cc96",
           "#ab63fa",
           "#FFA15A",
           "#19d3f3",
           "#FF6692",
           "#B6E880",
           "#FF97FF",
           "#FECB52"
          ],
          "font": {
           "color": "#2a3f5f"
          },
          "geo": {
           "bgcolor": "white",
           "lakecolor": "white",
           "landcolor": "#E5ECF6",
           "showlakes": true,
           "showland": true,
           "subunitcolor": "white"
          },
          "hoverlabel": {
           "align": "left"
          },
          "hovermode": "closest",
          "mapbox": {
           "style": "light"
          },
          "paper_bgcolor": "white",
          "plot_bgcolor": "#E5ECF6",
          "polar": {
           "angularaxis": {
            "gridcolor": "white",
            "linecolor": "white",
            "ticks": ""
           },
           "bgcolor": "#E5ECF6",
           "radialaxis": {
            "gridcolor": "white",
            "linecolor": "white",
            "ticks": ""
           }
          },
          "scene": {
           "xaxis": {
            "backgroundcolor": "#E5ECF6",
            "gridcolor": "white",
            "gridwidth": 2,
            "linecolor": "white",
            "showbackground": true,
            "ticks": "",
            "zerolinecolor": "white"
           },
           "yaxis": {
            "backgroundcolor": "#E5ECF6",
            "gridcolor": "white",
            "gridwidth": 2,
            "linecolor": "white",
            "showbackground": true,
            "ticks": "",
            "zerolinecolor": "white"
           },
           "zaxis": {
            "backgroundcolor": "#E5ECF6",
            "gridcolor": "white",
            "gridwidth": 2,
            "linecolor": "white",
            "showbackground": true,
            "ticks": "",
            "zerolinecolor": "white"
           }
          },
          "shapedefaults": {
           "line": {
            "color": "#2a3f5f"
           }
          },
          "ternary": {
           "aaxis": {
            "gridcolor": "white",
            "linecolor": "white",
            "ticks": ""
           },
           "baxis": {
            "gridcolor": "white",
            "linecolor": "white",
            "ticks": ""
           },
           "bgcolor": "#E5ECF6",
           "caxis": {
            "gridcolor": "white",
            "linecolor": "white",
            "ticks": ""
           }
          },
          "title": {
           "x": 0.05
          },
          "xaxis": {
           "automargin": true,
           "gridcolor": "white",
           "linecolor": "white",
           "ticks": "",
           "title": {
            "standoff": 15
           },
           "zerolinecolor": "white",
           "zerolinewidth": 2
          },
          "yaxis": {
           "automargin": true,
           "gridcolor": "white",
           "linecolor": "white",
           "ticks": "",
           "title": {
            "standoff": 15
           },
           "zerolinecolor": "white",
           "zerolinewidth": 2
          }
         }
        },
        "title": {
         "text": "Sweden population 1900-2020"
        },
        "xaxis": {
         "anchor": "y",
         "domain": [
          0,
          1
         ],
         "range": [
          1900,
          2020
         ],
         "title": {
          "text": "Year"
         }
        },
        "yaxis": {
         "anchor": "x",
         "domain": [
          0,
          1
         ],
         "title": {
          "text": "Folkmängd"
         },
         "type": "log"
        }
       }
      }
     },
     "metadata": {},
     "output_type": "display_data"
    }
   ],
   "source": [
    "\n",
    "fig=px.line(df1,x=\"Year\",y=\"Folkmängd\",title=\"Sweden population 1900-2020\",range_x=[1900,2020],log_y=True)\n",
    "fig.show()"
   ]
  },
  {
   "cell_type": "code",
   "execution_count": 120,
   "metadata": {},
   "outputs": [
    {
     "data": {
      "text/html": [
       "<div>\n",
       "<style scoped>\n",
       "    .dataframe tbody tr th:only-of-type {\n",
       "        vertical-align: middle;\n",
       "    }\n",
       "\n",
       "    .dataframe tbody tr th {\n",
       "        vertical-align: top;\n",
       "    }\n",
       "\n",
       "    .dataframe thead th {\n",
       "        text-align: right;\n",
       "    }\n",
       "</style>\n",
       "<table border=\"1\" class=\"dataframe\">\n",
       "  <thead>\n",
       "    <tr style=\"text-align: right;\">\n",
       "      <th></th>\n",
       "      <th>Year</th>\n",
       "      <th>Folkmängd</th>\n",
       "      <th>Födda</th>\n",
       "      <th>Döda</th>\n",
       "      <th>Befolkningsförändringar</th>\n",
       "      <th>Nativiteten (per 1000)</th>\n",
       "      <th>Dödstalen (per 1000)</th>\n",
       "      <th>Befolkningsförändringar (per 1000)</th>\n",
       "      <th>Total fertilitet</th>\n",
       "    </tr>\n",
       "  </thead>\n",
       "  <tbody>\n",
       "    <tr>\n",
       "      <th>0</th>\n",
       "      <td>1900</td>\n",
       "      <td>5 117 000</td>\n",
       "      <td>138 139</td>\n",
       "      <td>86 146</td>\n",
       "      <td>51 993</td>\n",
       "      <td>270</td>\n",
       "      <td>168</td>\n",
       "      <td>102</td>\n",
       "      <td>402</td>\n",
       "    </tr>\n",
       "    <tr>\n",
       "      <th>1</th>\n",
       "      <td>1901</td>\n",
       "      <td>5 156 000</td>\n",
       "      <td>139 370</td>\n",
       "      <td>82 772</td>\n",
       "      <td>56 598</td>\n",
       "      <td>270</td>\n",
       "      <td>161</td>\n",
       "      <td>110</td>\n",
       "      <td>404</td>\n",
       "    </tr>\n",
       "    <tr>\n",
       "      <th>2</th>\n",
       "      <td>1902</td>\n",
       "      <td>5 187 000</td>\n",
       "      <td>137 364</td>\n",
       "      <td>79 722</td>\n",
       "      <td>57 642</td>\n",
       "      <td>265</td>\n",
       "      <td>154</td>\n",
       "      <td>111</td>\n",
       "      <td>395</td>\n",
       "    </tr>\n",
       "    <tr>\n",
       "      <th>3</th>\n",
       "      <td>1903</td>\n",
       "      <td>5 210 000</td>\n",
       "      <td>133 896</td>\n",
       "      <td>78 610</td>\n",
       "      <td>55 286</td>\n",
       "      <td>257</td>\n",
       "      <td>151</td>\n",
       "      <td>106</td>\n",
       "      <td>382</td>\n",
       "    </tr>\n",
       "    <tr>\n",
       "      <th>4</th>\n",
       "      <td>1904</td>\n",
       "      <td>5 241 000</td>\n",
       "      <td>134 952</td>\n",
       "      <td>80 152</td>\n",
       "      <td>54 800</td>\n",
       "      <td>257</td>\n",
       "      <td>153</td>\n",
       "      <td>105</td>\n",
       "      <td>383</td>\n",
       "    </tr>\n",
       "    <tr>\n",
       "      <th>...</th>\n",
       "      <td>...</td>\n",
       "      <td>...</td>\n",
       "      <td>...</td>\n",
       "      <td>...</td>\n",
       "      <td>...</td>\n",
       "      <td>...</td>\n",
       "      <td>...</td>\n",
       "      <td>...</td>\n",
       "      <td>...</td>\n",
       "    </tr>\n",
       "    <tr>\n",
       "      <th>116</th>\n",
       "      <td>2016</td>\n",
       "      <td>9 995 000</td>\n",
       "      <td>117 425</td>\n",
       "      <td>90 982</td>\n",
       "      <td>26 443</td>\n",
       "      <td>118</td>\n",
       "      <td>92</td>\n",
       "      <td>26</td>\n",
       "      <td>185</td>\n",
       "    </tr>\n",
       "    <tr>\n",
       "      <th>117</th>\n",
       "      <td>2017</td>\n",
       "      <td>10 120 000</td>\n",
       "      <td>115 416</td>\n",
       "      <td>91 972</td>\n",
       "      <td>23 444</td>\n",
       "      <td>114</td>\n",
       "      <td>91</td>\n",
       "      <td>23</td>\n",
       "      <td>179</td>\n",
       "    </tr>\n",
       "    <tr>\n",
       "      <th>118</th>\n",
       "      <td>2018</td>\n",
       "      <td>10 230 000</td>\n",
       "      <td>115 832</td>\n",
       "      <td>92 185</td>\n",
       "      <td>23 647</td>\n",
       "      <td>113</td>\n",
       "      <td>90</td>\n",
       "      <td>23</td>\n",
       "      <td>175</td>\n",
       "    </tr>\n",
       "    <tr>\n",
       "      <th>119</th>\n",
       "      <td>2019</td>\n",
       "      <td>10 327 589</td>\n",
       "      <td>114 523</td>\n",
       "      <td>88 766</td>\n",
       "      <td>28 727</td>\n",
       "      <td>111</td>\n",
       "      <td>87</td>\n",
       "      <td>24</td>\n",
       "      <td>170</td>\n",
       "    </tr>\n",
       "    <tr>\n",
       "      <th>120</th>\n",
       "      <td>2020</td>\n",
       "      <td>10 379 295</td>\n",
       "      <td>113 077</td>\n",
       "      <td>98 124</td>\n",
       "      <td>14 953</td>\n",
       "      <td>109</td>\n",
       "      <td>95</td>\n",
       "      <td>14</td>\n",
       "      <td>166</td>\n",
       "    </tr>\n",
       "  </tbody>\n",
       "</table>\n",
       "<p>121 rows × 9 columns</p>\n",
       "</div>"
      ],
      "text/plain": [
       "     Year   Folkmängd    Födda    Döda Befolkningsförändringar  \\\n",
       "0    1900   5 117 000  138 139  86 146                  51 993   \n",
       "1    1901   5 156 000  139 370  82 772                  56 598   \n",
       "2    1902   5 187 000  137 364  79 722                  57 642   \n",
       "3    1903   5 210 000  133 896  78 610                  55 286   \n",
       "4    1904   5 241 000  134 952  80 152                  54 800   \n",
       "..    ...         ...      ...     ...                     ...   \n",
       "116  2016   9 995 000  117 425  90 982                  26 443   \n",
       "117  2017  10 120 000  115 416  91 972                  23 444   \n",
       "118  2018  10 230 000  115 832  92 185                  23 647   \n",
       "119  2019  10 327 589  114 523  88 766                  28 727   \n",
       "120  2020  10 379 295  113 077  98 124                  14 953   \n",
       "\n",
       "     Nativiteten (per 1000)  Dödstalen (per 1000)  \\\n",
       "0                       270                   168   \n",
       "1                       270                   161   \n",
       "2                       265                   154   \n",
       "3                       257                   151   \n",
       "4                       257                   153   \n",
       "..                      ...                   ...   \n",
       "116                     118                    92   \n",
       "117                     114                    91   \n",
       "118                     113                    90   \n",
       "119                     111                    87   \n",
       "120                     109                    95   \n",
       "\n",
       "     Befolkningsförändringar (per 1000)  Total fertilitet  \n",
       "0                                   102               402  \n",
       "1                                   110               404  \n",
       "2                                   111               395  \n",
       "3                                   106               382  \n",
       "4                                   105               383  \n",
       "..                                  ...               ...  \n",
       "116                                  26               185  \n",
       "117                                  23               179  \n",
       "118                                  23               175  \n",
       "119                                  24               170  \n",
       "120                                  14               166  \n",
       "\n",
       "[121 rows x 9 columns]"
      ]
     },
     "execution_count": 120,
     "metadata": {},
     "output_type": "execute_result"
    }
   ],
   "source": [
    "df1"
   ]
  },
  {
   "cell_type": "markdown",
   "metadata": {},
   "source": [
    "# https://www.jb51.net/article/198125.htm?tdsourcetag=s_pcqq_aiomsg"
   ]
  },
  {
   "cell_type": "code",
   "execution_count": 122,
   "metadata": {},
   "outputs": [
    {
     "ename": "ValueError",
     "evalue": "\n    Invalid value of type 'builtins.str' received for the 'x' property of scatter\n        Received value: 'Year'\n\n    The 'x' property is an array that may be specified as a tuple,\n    list, numpy array, or pandas Series",
     "output_type": "error",
     "traceback": [
      "\u001b[1;31m---------------------------------------------------------------------------\u001b[0m",
      "\u001b[1;31mValueError\u001b[0m                                Traceback (most recent call last)",
      "\u001b[1;32m~\\AppData\\Local\\Temp/ipykernel_14860/1702798795.py\u001b[0m in \u001b[0;36m<module>\u001b[1;34m\u001b[0m\n\u001b[0;32m      1\u001b[0m \u001b[1;31m# 1.绘制图形轨迹，在ployly里面叫做`trace`，每一个轨迹是一个trace。\u001b[0m\u001b[1;33m\u001b[0m\u001b[1;33m\u001b[0m\u001b[1;33m\u001b[0m\u001b[0m\n\u001b[1;32m----> 2\u001b[1;33m \u001b[0mtrace0\u001b[0m\u001b[1;33m=\u001b[0m\u001b[0mgo\u001b[0m\u001b[1;33m.\u001b[0m\u001b[0mScatter\u001b[0m\u001b[1;33m(\u001b[0m\u001b[0mx\u001b[0m\u001b[1;33m=\u001b[0m\u001b[1;34m\"Year\"\u001b[0m\u001b[1;33m,\u001b[0m\u001b[0my\u001b[0m\u001b[1;33m=\u001b[0m\u001b[1;34m\"Folkmängd\"\u001b[0m\u001b[1;33m)\u001b[0m\u001b[1;33m\u001b[0m\u001b[1;33m\u001b[0m\u001b[0m\n\u001b[0m\u001b[0;32m      3\u001b[0m \u001b[0mtrace1\u001b[0m\u001b[1;33m=\u001b[0m\u001b[0mgo\u001b[0m\u001b[1;33m.\u001b[0m\u001b[0mScatter\u001b[0m\u001b[1;33m(\u001b[0m\u001b[0mx\u001b[0m\u001b[1;33m=\u001b[0m\u001b[1;34m\"Year\"\u001b[0m\u001b[1;33m,\u001b[0m\u001b[0my\u001b[0m\u001b[1;33m=\u001b[0m\u001b[1;34m\"Nativiteten\"\u001b[0m\u001b[1;33m)\u001b[0m\u001b[1;33m\u001b[0m\u001b[1;33m\u001b[0m\u001b[0m\n\u001b[0;32m      4\u001b[0m \u001b[0mtrace2\u001b[0m\u001b[1;33m=\u001b[0m\u001b[0mgo\u001b[0m\u001b[1;33m.\u001b[0m\u001b[0mScatter\u001b[0m\u001b[1;33m(\u001b[0m\u001b[0mx\u001b[0m\u001b[1;33m=\u001b[0m\u001b[1;34m\"Year\"\u001b[0m\u001b[1;33m,\u001b[0m\u001b[0my\u001b[0m\u001b[1;33m=\u001b[0m\u001b[1;34m\"Dödstalen\"\u001b[0m\u001b[1;33m)\u001b[0m\u001b[1;33m\u001b[0m\u001b[1;33m\u001b[0m\u001b[0m\n\u001b[0;32m      5\u001b[0m \u001b[1;33m\u001b[0m\u001b[0m\n",
      "\u001b[1;32m~\\.virtualenvs\\Databehandling_Xiu-TYvkZc4P\\lib\\site-packages\\plotly\\graph_objs\\_scatter.py\u001b[0m in \u001b[0;36m__init__\u001b[1;34m(self, arg, cliponaxis, connectgaps, customdata, customdatasrc, dx, dy, error_x, error_y, fill, fillcolor, groupnorm, hoverinfo, hoverinfosrc, hoverlabel, hoveron, hovertemplate, hovertemplatesrc, hovertext, hovertextsrc, ids, idssrc, legendgroup, legendgrouptitle, legendrank, line, marker, meta, metasrc, mode, name, opacity, orientation, selected, selectedpoints, showlegend, stackgaps, stackgroup, stream, text, textfont, textposition, textpositionsrc, textsrc, texttemplate, texttemplatesrc, uid, uirevision, unselected, visible, x, x0, xaxis, xcalendar, xhoverformat, xperiod, xperiod0, xperiodalignment, xsrc, y, y0, yaxis, ycalendar, yhoverformat, yperiod, yperiod0, yperiodalignment, ysrc, **kwargs)\u001b[0m\n\u001b[0;32m   3206\u001b[0m         \u001b[0m_v\u001b[0m \u001b[1;33m=\u001b[0m \u001b[0mx\u001b[0m \u001b[1;32mif\u001b[0m \u001b[0mx\u001b[0m \u001b[1;32mis\u001b[0m \u001b[1;32mnot\u001b[0m \u001b[1;32mNone\u001b[0m \u001b[1;32melse\u001b[0m \u001b[0m_v\u001b[0m\u001b[1;33m\u001b[0m\u001b[1;33m\u001b[0m\u001b[0m\n\u001b[0;32m   3207\u001b[0m         \u001b[1;32mif\u001b[0m \u001b[0m_v\u001b[0m \u001b[1;32mis\u001b[0m \u001b[1;32mnot\u001b[0m \u001b[1;32mNone\u001b[0m\u001b[1;33m:\u001b[0m\u001b[1;33m\u001b[0m\u001b[1;33m\u001b[0m\u001b[0m\n\u001b[1;32m-> 3208\u001b[1;33m             \u001b[0mself\u001b[0m\u001b[1;33m[\u001b[0m\u001b[1;34m\"x\"\u001b[0m\u001b[1;33m]\u001b[0m \u001b[1;33m=\u001b[0m \u001b[0m_v\u001b[0m\u001b[1;33m\u001b[0m\u001b[1;33m\u001b[0m\u001b[0m\n\u001b[0m\u001b[0;32m   3209\u001b[0m         \u001b[0m_v\u001b[0m \u001b[1;33m=\u001b[0m \u001b[0marg\u001b[0m\u001b[1;33m.\u001b[0m\u001b[0mpop\u001b[0m\u001b[1;33m(\u001b[0m\u001b[1;34m\"x0\"\u001b[0m\u001b[1;33m,\u001b[0m \u001b[1;32mNone\u001b[0m\u001b[1;33m)\u001b[0m\u001b[1;33m\u001b[0m\u001b[1;33m\u001b[0m\u001b[0m\n\u001b[0;32m   3210\u001b[0m         \u001b[0m_v\u001b[0m \u001b[1;33m=\u001b[0m \u001b[0mx0\u001b[0m \u001b[1;32mif\u001b[0m \u001b[0mx0\u001b[0m \u001b[1;32mis\u001b[0m \u001b[1;32mnot\u001b[0m \u001b[1;32mNone\u001b[0m \u001b[1;32melse\u001b[0m \u001b[0m_v\u001b[0m\u001b[1;33m\u001b[0m\u001b[1;33m\u001b[0m\u001b[0m\n",
      "\u001b[1;32m~\\.virtualenvs\\Databehandling_Xiu-TYvkZc4P\\lib\\site-packages\\plotly\\basedatatypes.py\u001b[0m in \u001b[0;36m__setitem__\u001b[1;34m(self, prop, value)\u001b[0m\n\u001b[0;32m   4817\u001b[0m                 \u001b[1;31m# ### Handle simple property ###\u001b[0m\u001b[1;33m\u001b[0m\u001b[1;33m\u001b[0m\u001b[1;33m\u001b[0m\u001b[0m\n\u001b[0;32m   4818\u001b[0m                 \u001b[1;32melse\u001b[0m\u001b[1;33m:\u001b[0m\u001b[1;33m\u001b[0m\u001b[1;33m\u001b[0m\u001b[0m\n\u001b[1;32m-> 4819\u001b[1;33m                     \u001b[0mself\u001b[0m\u001b[1;33m.\u001b[0m\u001b[0m_set_prop\u001b[0m\u001b[1;33m(\u001b[0m\u001b[0mprop\u001b[0m\u001b[1;33m,\u001b[0m \u001b[0mvalue\u001b[0m\u001b[1;33m)\u001b[0m\u001b[1;33m\u001b[0m\u001b[1;33m\u001b[0m\u001b[0m\n\u001b[0m\u001b[0;32m   4820\u001b[0m             \u001b[1;32melse\u001b[0m\u001b[1;33m:\u001b[0m\u001b[1;33m\u001b[0m\u001b[1;33m\u001b[0m\u001b[0m\n\u001b[0;32m   4821\u001b[0m                 \u001b[1;31m# Make sure properties dict is initialized\u001b[0m\u001b[1;33m\u001b[0m\u001b[1;33m\u001b[0m\u001b[1;33m\u001b[0m\u001b[0m\n",
      "\u001b[1;32m~\\.virtualenvs\\Databehandling_Xiu-TYvkZc4P\\lib\\site-packages\\plotly\\basedatatypes.py\u001b[0m in \u001b[0;36m_set_prop\u001b[1;34m(self, prop, val)\u001b[0m\n\u001b[0;32m   5161\u001b[0m                 \u001b[1;32mreturn\u001b[0m\u001b[1;33m\u001b[0m\u001b[1;33m\u001b[0m\u001b[0m\n\u001b[0;32m   5162\u001b[0m             \u001b[1;32melse\u001b[0m\u001b[1;33m:\u001b[0m\u001b[1;33m\u001b[0m\u001b[1;33m\u001b[0m\u001b[0m\n\u001b[1;32m-> 5163\u001b[1;33m                 \u001b[1;32mraise\u001b[0m \u001b[0merr\u001b[0m\u001b[1;33m\u001b[0m\u001b[1;33m\u001b[0m\u001b[0m\n\u001b[0m\u001b[0;32m   5164\u001b[0m \u001b[1;33m\u001b[0m\u001b[0m\n\u001b[0;32m   5165\u001b[0m         \u001b[1;31m# val is None\u001b[0m\u001b[1;33m\u001b[0m\u001b[1;33m\u001b[0m\u001b[1;33m\u001b[0m\u001b[0m\n",
      "\u001b[1;32m~\\.virtualenvs\\Databehandling_Xiu-TYvkZc4P\\lib\\site-packages\\plotly\\basedatatypes.py\u001b[0m in \u001b[0;36m_set_prop\u001b[1;34m(self, prop, val)\u001b[0m\n\u001b[0;32m   5156\u001b[0m \u001b[1;33m\u001b[0m\u001b[0m\n\u001b[0;32m   5157\u001b[0m         \u001b[1;32mtry\u001b[0m\u001b[1;33m:\u001b[0m\u001b[1;33m\u001b[0m\u001b[1;33m\u001b[0m\u001b[0m\n\u001b[1;32m-> 5158\u001b[1;33m             \u001b[0mval\u001b[0m \u001b[1;33m=\u001b[0m \u001b[0mvalidator\u001b[0m\u001b[1;33m.\u001b[0m\u001b[0mvalidate_coerce\u001b[0m\u001b[1;33m(\u001b[0m\u001b[0mval\u001b[0m\u001b[1;33m)\u001b[0m\u001b[1;33m\u001b[0m\u001b[1;33m\u001b[0m\u001b[0m\n\u001b[0m\u001b[0;32m   5159\u001b[0m         \u001b[1;32mexcept\u001b[0m \u001b[0mValueError\u001b[0m \u001b[1;32mas\u001b[0m \u001b[0merr\u001b[0m\u001b[1;33m:\u001b[0m\u001b[1;33m\u001b[0m\u001b[1;33m\u001b[0m\u001b[0m\n\u001b[0;32m   5160\u001b[0m             \u001b[1;32mif\u001b[0m \u001b[0mself\u001b[0m\u001b[1;33m.\u001b[0m\u001b[0m_skip_invalid\u001b[0m\u001b[1;33m:\u001b[0m\u001b[1;33m\u001b[0m\u001b[1;33m\u001b[0m\u001b[0m\n",
      "\u001b[1;32m~\\.virtualenvs\\Databehandling_Xiu-TYvkZc4P\\lib\\site-packages\\_plotly_utils\\basevalidators.py\u001b[0m in \u001b[0;36mvalidate_coerce\u001b[1;34m(self, v)\u001b[0m\n\u001b[0;32m    403\u001b[0m             \u001b[0mv\u001b[0m \u001b[1;33m=\u001b[0m \u001b[0mto_scalar_or_list\u001b[0m\u001b[1;33m(\u001b[0m\u001b[0mv\u001b[0m\u001b[1;33m)\u001b[0m\u001b[1;33m\u001b[0m\u001b[1;33m\u001b[0m\u001b[0m\n\u001b[0;32m    404\u001b[0m         \u001b[1;32melse\u001b[0m\u001b[1;33m:\u001b[0m\u001b[1;33m\u001b[0m\u001b[1;33m\u001b[0m\u001b[0m\n\u001b[1;32m--> 405\u001b[1;33m             \u001b[0mself\u001b[0m\u001b[1;33m.\u001b[0m\u001b[0mraise_invalid_val\u001b[0m\u001b[1;33m(\u001b[0m\u001b[0mv\u001b[0m\u001b[1;33m)\u001b[0m\u001b[1;33m\u001b[0m\u001b[1;33m\u001b[0m\u001b[0m\n\u001b[0m\u001b[0;32m    406\u001b[0m         \u001b[1;32mreturn\u001b[0m \u001b[0mv\u001b[0m\u001b[1;33m\u001b[0m\u001b[1;33m\u001b[0m\u001b[0m\n\u001b[0;32m    407\u001b[0m \u001b[1;33m\u001b[0m\u001b[0m\n",
      "\u001b[1;32m~\\.virtualenvs\\Databehandling_Xiu-TYvkZc4P\\lib\\site-packages\\_plotly_utils\\basevalidators.py\u001b[0m in \u001b[0;36mraise_invalid_val\u001b[1;34m(self, v, inds)\u001b[0m\n\u001b[0;32m    287\u001b[0m                 \u001b[0mname\u001b[0m \u001b[1;33m+=\u001b[0m \u001b[1;34m\"[\"\u001b[0m \u001b[1;33m+\u001b[0m \u001b[0mstr\u001b[0m\u001b[1;33m(\u001b[0m\u001b[0mi\u001b[0m\u001b[1;33m)\u001b[0m \u001b[1;33m+\u001b[0m \u001b[1;34m\"]\"\u001b[0m\u001b[1;33m\u001b[0m\u001b[1;33m\u001b[0m\u001b[0m\n\u001b[0;32m    288\u001b[0m \u001b[1;33m\u001b[0m\u001b[0m\n\u001b[1;32m--> 289\u001b[1;33m         raise ValueError(\n\u001b[0m\u001b[0;32m    290\u001b[0m             \"\"\"\n\u001b[0;32m    291\u001b[0m     \u001b[0mInvalid\u001b[0m \u001b[0mvalue\u001b[0m \u001b[0mof\u001b[0m \u001b[0mtype\u001b[0m \u001b[1;33m{\u001b[0m\u001b[0mtyp\u001b[0m\u001b[1;33m}\u001b[0m \u001b[0mreceived\u001b[0m \u001b[1;32mfor\u001b[0m \u001b[0mthe\u001b[0m \u001b[1;34m'{name}'\u001b[0m \u001b[0mproperty\u001b[0m \u001b[0mof\u001b[0m \u001b[1;33m{\u001b[0m\u001b[0mpname\u001b[0m\u001b[1;33m}\u001b[0m\u001b[1;33m\u001b[0m\u001b[1;33m\u001b[0m\u001b[0m\n",
      "\u001b[1;31mValueError\u001b[0m: \n    Invalid value of type 'builtins.str' received for the 'x' property of scatter\n        Received value: 'Year'\n\n    The 'x' property is an array that may be specified as a tuple,\n    list, numpy array, or pandas Series"
     ]
    }
   ],
   "source": [
    "\n",
    "# 1.绘制图形轨迹，在ployly里面叫做`trace`，每一个轨迹是一个trace。\n",
    "trace0=go.Scatter(x=df1[\"Year\"],y=df[\"Folkmängd\"])\n",
    "trace1=go.Scatter(x=df1[\"Year\"],y=df[\"Nativiteten\"])\n",
    "trace2=go.Scatter(x=df1[\"Year\"],y=df[\"Dödstalen \"])\n",
    "\n",
    "# 2.将轨迹包裹成一个列表，形成一个“轨迹列表”。一个轨迹放在一个列表中，多个轨迹也是放在一个列表中。\n",
    "data=[trace0,trace1,trace2]\n",
    "\n",
    "# 3.创建画布的同时，并将上述的`轨迹列表`，传入到`Figure()`中。\n",
    "fig = go.Figure(data)\n",
    "\n",
    "# 4.使用`Layout()`添加其他的绘图参数，完善图形。\n",
    "fig.update_layout(\n",
    "  title=\"population,birthrate,deathrate\",\n",
    "  xaxis_title=\"Year\",\n",
    "  yaxis_title=\"change\"\n",
    "  )\n",
    "# 5.展示图形。\n",
    "fig.show()\n",
    "\n",
    "\n",
    "\n",
    "# range_x=[1900,2020],log_y=True"
   ]
  },
  {
   "cell_type": "markdown",
   "metadata": {},
   "source": [
    "#   c)\n",
    " Now we want to go backwards in time (before 1900) to see how population has changed in Sweden. Read in the table under history and keep the data of \"Folkmängd\" from 1570-1865."
   ]
  },
  {
   "cell_type": "code",
   "execution_count": 131,
   "metadata": {},
   "outputs": [
    {
     "data": {
      "text/html": [
       "<div>\n",
       "<style scoped>\n",
       "    .dataframe tbody tr th:only-of-type {\n",
       "        vertical-align: middle;\n",
       "    }\n",
       "\n",
       "    .dataframe tbody tr th {\n",
       "        vertical-align: top;\n",
       "    }\n",
       "\n",
       "    .dataframe thead tr th {\n",
       "        text-align: left;\n",
       "    }\n",
       "</style>\n",
       "<table border=\"1\" class=\"dataframe\">\n",
       "  <thead>\n",
       "    <tr>\n",
       "      <th></th>\n",
       "      <th>Vid utgången av år</th>\n",
       "      <th>Folkmängd</th>\n",
       "      <th colspan=\"2\" halign=\"left\">Årlig tillväxt</th>\n",
       "    </tr>\n",
       "    <tr>\n",
       "      <th></th>\n",
       "      <th>Vid utgången av år</th>\n",
       "      <th>Folkmängd</th>\n",
       "      <th>Totalt</th>\n",
       "      <th>Promille</th>\n",
       "    </tr>\n",
       "  </thead>\n",
       "  <tbody>\n",
       "    <tr>\n",
       "      <th>0</th>\n",
       "      <td>1570</td>\n",
       "      <td>900 000</td>\n",
       "      <td>—</td>\n",
       "      <td>—</td>\n",
       "    </tr>\n",
       "    <tr>\n",
       "      <th>1</th>\n",
       "      <td>1650</td>\n",
       "      <td>1 225 000</td>\n",
       "      <td>4 063</td>\n",
       "      <td>386</td>\n",
       "    </tr>\n",
       "    <tr>\n",
       "      <th>2</th>\n",
       "      <td>1700</td>\n",
       "      <td>1 485 000</td>\n",
       "      <td>5 200</td>\n",
       "      <td>386</td>\n",
       "    </tr>\n",
       "    <tr>\n",
       "      <th>3</th>\n",
       "      <td>1720</td>\n",
       "      <td>1 350 000</td>\n",
       "      <td>−6 750</td>\n",
       "      <td>−4,75</td>\n",
       "    </tr>\n",
       "    <tr>\n",
       "      <th>4</th>\n",
       "      <td>1755</td>\n",
       "      <td>1 878 000</td>\n",
       "      <td>15 086</td>\n",
       "      <td>948</td>\n",
       "    </tr>\n",
       "    <tr>\n",
       "      <th>5</th>\n",
       "      <td>1815</td>\n",
       "      <td>2 465 000</td>\n",
       "      <td>9 783</td>\n",
       "      <td>454</td>\n",
       "    </tr>\n",
       "    <tr>\n",
       "      <th>6</th>\n",
       "      <td>1865</td>\n",
       "      <td>4 099 000</td>\n",
       "      <td>32 680</td>\n",
       "      <td>1022</td>\n",
       "    </tr>\n",
       "    <tr>\n",
       "      <th>7</th>\n",
       "      <td>1900</td>\n",
       "      <td>5 140 000</td>\n",
       "      <td>29 743</td>\n",
       "      <td>648</td>\n",
       "    </tr>\n",
       "    <tr>\n",
       "      <th>8</th>\n",
       "      <td>2000</td>\n",
       "      <td>8 861 000</td>\n",
       "      <td>NaN</td>\n",
       "      <td>NaN</td>\n",
       "    </tr>\n",
       "    <tr>\n",
       "      <th>9</th>\n",
       "      <td>2020</td>\n",
       "      <td>10 379 000</td>\n",
       "      <td>NaN</td>\n",
       "      <td>NaN</td>\n",
       "    </tr>\n",
       "    <tr>\n",
       "      <th>10</th>\n",
       "      <td>Datan avser folkmängden inom Sveriges nuvarand...</td>\n",
       "      <td>Datan avser folkmängden inom Sveriges nuvarand...</td>\n",
       "      <td>Datan avser folkmängden inom Sveriges nuvarand...</td>\n",
       "      <td>Datan avser folkmängden inom Sveriges nuvarand...</td>\n",
       "    </tr>\n",
       "  </tbody>\n",
       "</table>\n",
       "</div>"
      ],
      "text/plain": [
       "                                   Vid utgången av år  \\\n",
       "                                   Vid utgången av år   \n",
       "0                                                1570   \n",
       "1                                                1650   \n",
       "2                                                1700   \n",
       "3                                                1720   \n",
       "4                                                1755   \n",
       "5                                                1815   \n",
       "6                                                1865   \n",
       "7                                                1900   \n",
       "8                                                2000   \n",
       "9                                                2020   \n",
       "10  Datan avser folkmängden inom Sveriges nuvarand...   \n",
       "\n",
       "                                            Folkmängd  \\\n",
       "                                            Folkmängd   \n",
       "0                                             900 000   \n",
       "1                                           1 225 000   \n",
       "2                                           1 485 000   \n",
       "3                                           1 350 000   \n",
       "4                                           1 878 000   \n",
       "5                                           2 465 000   \n",
       "6                                           4 099 000   \n",
       "7                                           5 140 000   \n",
       "8                                           8 861 000   \n",
       "9                                          10 379 000   \n",
       "10  Datan avser folkmängden inom Sveriges nuvarand...   \n",
       "\n",
       "                                       Årlig tillväxt  \\\n",
       "                                               Totalt   \n",
       "0                                                   —   \n",
       "1                                               4 063   \n",
       "2                                               5 200   \n",
       "3                                              −6 750   \n",
       "4                                              15 086   \n",
       "5                                               9 783   \n",
       "6                                              32 680   \n",
       "7                                              29 743   \n",
       "8                                                 NaN   \n",
       "9                                                 NaN   \n",
       "10  Datan avser folkmängden inom Sveriges nuvarand...   \n",
       "\n",
       "                                                       \n",
       "                                             Promille  \n",
       "0                                                   —  \n",
       "1                                                 386  \n",
       "2                                                 386  \n",
       "3                                               −4,75  \n",
       "4                                                 948  \n",
       "5                                                 454  \n",
       "6                                                1022  \n",
       "7                                                 648  \n",
       "8                                                 NaN  \n",
       "9                                                 NaN  \n",
       "10  Datan avser folkmängden inom Sveriges nuvarand...  "
      ]
     },
     "execution_count": 131,
     "metadata": {},
     "output_type": "execute_result"
    }
   ],
   "source": [
    "df_before1900 = tables[1] # 0 is first table in the html page ,5 is sex table in this page\n",
    "df_before1900 "
   ]
  },
  {
   "cell_type": "code",
   "execution_count": 139,
   "metadata": {},
   "outputs": [
    {
     "data": {
      "text/html": [
       "<div>\n",
       "<style scoped>\n",
       "    .dataframe tbody tr th:only-of-type {\n",
       "        vertical-align: middle;\n",
       "    }\n",
       "\n",
       "    .dataframe tbody tr th {\n",
       "        vertical-align: top;\n",
       "    }\n",
       "\n",
       "    .dataframe thead tr th {\n",
       "        text-align: left;\n",
       "    }\n",
       "</style>\n",
       "<table border=\"1\" class=\"dataframe\">\n",
       "  <thead>\n",
       "    <tr>\n",
       "      <th></th>\n",
       "      <th>Year</th>\n",
       "      <th>Folkmängd</th>\n",
       "      <th colspan=\"2\" halign=\"left\">Årlig tillväxt</th>\n",
       "    </tr>\n",
       "    <tr>\n",
       "      <th></th>\n",
       "      <th>Year</th>\n",
       "      <th>Folkmängd</th>\n",
       "      <th>Befolkningsförändringar</th>\n",
       "      <th>Befolkningsförändringar (per 1000)</th>\n",
       "    </tr>\n",
       "  </thead>\n",
       "  <tbody>\n",
       "    <tr>\n",
       "      <th>0</th>\n",
       "      <td>1570</td>\n",
       "      <td>900 000</td>\n",
       "      <td>—</td>\n",
       "      <td>—</td>\n",
       "    </tr>\n",
       "    <tr>\n",
       "      <th>1</th>\n",
       "      <td>1650</td>\n",
       "      <td>1 225 000</td>\n",
       "      <td>4 063</td>\n",
       "      <td>386</td>\n",
       "    </tr>\n",
       "    <tr>\n",
       "      <th>2</th>\n",
       "      <td>1700</td>\n",
       "      <td>1 485 000</td>\n",
       "      <td>5 200</td>\n",
       "      <td>386</td>\n",
       "    </tr>\n",
       "    <tr>\n",
       "      <th>3</th>\n",
       "      <td>1720</td>\n",
       "      <td>1 350 000</td>\n",
       "      <td>−6 750</td>\n",
       "      <td>−4,75</td>\n",
       "    </tr>\n",
       "    <tr>\n",
       "      <th>4</th>\n",
       "      <td>1755</td>\n",
       "      <td>1 878 000</td>\n",
       "      <td>15 086</td>\n",
       "      <td>948</td>\n",
       "    </tr>\n",
       "    <tr>\n",
       "      <th>5</th>\n",
       "      <td>1815</td>\n",
       "      <td>2 465 000</td>\n",
       "      <td>9 783</td>\n",
       "      <td>454</td>\n",
       "    </tr>\n",
       "    <tr>\n",
       "      <th>6</th>\n",
       "      <td>1865</td>\n",
       "      <td>4 099 000</td>\n",
       "      <td>32 680</td>\n",
       "      <td>1022</td>\n",
       "    </tr>\n",
       "  </tbody>\n",
       "</table>\n",
       "</div>"
      ],
      "text/plain": [
       "   Year  Folkmängd          Årlig tillväxt                                    \n",
       "   Year  Folkmängd Befolkningsförändringar Befolkningsförändringar (per 1000) \n",
       "0  1570    900 000                       —                                   —\n",
       "1  1650  1 225 000                   4 063                                 386\n",
       "2  1700  1 485 000                   5 200                                 386\n",
       "3  1720  1 350 000                  −6 750                               −4,75\n",
       "4  1755  1 878 000                  15 086                                 948\n",
       "5  1815  2 465 000                   9 783                                 454\n",
       "6  1865  4 099 000                  32 680                                1022"
      ]
     },
     "execution_count": 139,
     "metadata": {},
     "output_type": "execute_result"
    }
   ],
   "source": [
    "df3=df_before1900.drop(index=[7,8,9,10]).rename(\n",
    "                                         columns={\n",
    "                                             \"Vid utgången av år\":\"Year\",\n",
    "                                             \"Totalt\":\"Befolkningsförändringar\",\n",
    "                                             \"Promille\": \"Befolkningsförändringar (per 1000) \"})\n",
    "\n",
    "df3"
   ]
  },
  {
   "cell_type": "markdown",
   "metadata": {},
   "source": [
    " # d) \n",
    " Now concatenate this with the table from 1900 so that you have population data from 1570 to 2020. Note that you may need to clean the data in order for it to fit properly. Also you may be able to do this in several ways."
   ]
  },
  {
   "cell_type": "code",
   "execution_count": 138,
   "metadata": {},
   "outputs": [
    {
     "data": {
      "text/html": [
       "<div>\n",
       "<style scoped>\n",
       "    .dataframe tbody tr th:only-of-type {\n",
       "        vertical-align: middle;\n",
       "    }\n",
       "\n",
       "    .dataframe tbody tr th {\n",
       "        vertical-align: top;\n",
       "    }\n",
       "\n",
       "    .dataframe thead th {\n",
       "        text-align: right;\n",
       "    }\n",
       "</style>\n",
       "<table border=\"1\" class=\"dataframe\">\n",
       "  <thead>\n",
       "    <tr style=\"text-align: right;\">\n",
       "      <th></th>\n",
       "      <th>Year</th>\n",
       "      <th>Folkmängd</th>\n",
       "      <th>Befolkningsförändringar</th>\n",
       "      <th>Befolkningsförändringar (per 1000)</th>\n",
       "    </tr>\n",
       "  </thead>\n",
       "  <tbody>\n",
       "    <tr>\n",
       "      <th>0</th>\n",
       "      <td>1900</td>\n",
       "      <td>5 117 000</td>\n",
       "      <td>51 993</td>\n",
       "      <td>102</td>\n",
       "    </tr>\n",
       "    <tr>\n",
       "      <th>1</th>\n",
       "      <td>1901</td>\n",
       "      <td>5 156 000</td>\n",
       "      <td>56 598</td>\n",
       "      <td>110</td>\n",
       "    </tr>\n",
       "    <tr>\n",
       "      <th>2</th>\n",
       "      <td>1902</td>\n",
       "      <td>5 187 000</td>\n",
       "      <td>57 642</td>\n",
       "      <td>111</td>\n",
       "    </tr>\n",
       "    <tr>\n",
       "      <th>3</th>\n",
       "      <td>1903</td>\n",
       "      <td>5 210 000</td>\n",
       "      <td>55 286</td>\n",
       "      <td>106</td>\n",
       "    </tr>\n",
       "    <tr>\n",
       "      <th>4</th>\n",
       "      <td>1904</td>\n",
       "      <td>5 241 000</td>\n",
       "      <td>54 800</td>\n",
       "      <td>105</td>\n",
       "    </tr>\n",
       "    <tr>\n",
       "      <th>...</th>\n",
       "      <td>...</td>\n",
       "      <td>...</td>\n",
       "      <td>...</td>\n",
       "      <td>...</td>\n",
       "    </tr>\n",
       "    <tr>\n",
       "      <th>116</th>\n",
       "      <td>2016</td>\n",
       "      <td>9 995 000</td>\n",
       "      <td>26 443</td>\n",
       "      <td>26</td>\n",
       "    </tr>\n",
       "    <tr>\n",
       "      <th>117</th>\n",
       "      <td>2017</td>\n",
       "      <td>10 120 000</td>\n",
       "      <td>23 444</td>\n",
       "      <td>23</td>\n",
       "    </tr>\n",
       "    <tr>\n",
       "      <th>118</th>\n",
       "      <td>2018</td>\n",
       "      <td>10 230 000</td>\n",
       "      <td>23 647</td>\n",
       "      <td>23</td>\n",
       "    </tr>\n",
       "    <tr>\n",
       "      <th>119</th>\n",
       "      <td>2019</td>\n",
       "      <td>10 327 589</td>\n",
       "      <td>28 727</td>\n",
       "      <td>24</td>\n",
       "    </tr>\n",
       "    <tr>\n",
       "      <th>120</th>\n",
       "      <td>2020</td>\n",
       "      <td>10 379 295</td>\n",
       "      <td>14 953</td>\n",
       "      <td>14</td>\n",
       "    </tr>\n",
       "  </tbody>\n",
       "</table>\n",
       "<p>121 rows × 4 columns</p>\n",
       "</div>"
      ],
      "text/plain": [
       "     Year   Folkmängd Befolkningsförändringar  \\\n",
       "0    1900   5 117 000                  51 993   \n",
       "1    1901   5 156 000                  56 598   \n",
       "2    1902   5 187 000                  57 642   \n",
       "3    1903   5 210 000                  55 286   \n",
       "4    1904   5 241 000                  54 800   \n",
       "..    ...         ...                     ...   \n",
       "116  2016   9 995 000                  26 443   \n",
       "117  2017  10 120 000                  23 444   \n",
       "118  2018  10 230 000                  23 647   \n",
       "119  2019  10 327 589                  28 727   \n",
       "120  2020  10 379 295                  14 953   \n",
       "\n",
       "     Befolkningsförändringar (per 1000)  \n",
       "0                                   102  \n",
       "1                                   110  \n",
       "2                                   111  \n",
       "3                                   106  \n",
       "4                                   105  \n",
       "..                                  ...  \n",
       "116                                  26  \n",
       "117                                  23  \n",
       "118                                  23  \n",
       "119                                  24  \n",
       "120                                  14  \n",
       "\n",
       "[121 rows x 4 columns]"
      ]
     },
     "execution_count": 138,
     "metadata": {},
     "output_type": "execute_result"
    }
   ],
   "source": [
    "df2=df1.drop([\"Födda\",\t\"Döda\", \"Nativiteten (per 1000)\",\t\"Dödstalen (per 1000)\",\"Total fertilitet\" ], axis=1)  # axis 默认为0，指删除行，因此删除columns时要指定axis=1；\n",
    "df2\n",
    "df3\n",
    "\n",
    "\n"
   ]
  },
  {
   "cell_type": "markdown",
   "metadata": {},
   "source": [
    "# e) \n",
    "Draw a graph of population data from 1570-2020."
   ]
  },
  {
   "cell_type": "markdown",
   "metadata": {},
   "source": [
    "\n",
    "# 2. Denmark demographic data (*)\n",
    "Go to the Danish-language wikipedia page Danmarks demografi.\n",
    "\n",
    "  # a) \n",
    "  Read in the table under \"Demografiske data\" into a DataFrame (*)\n",
    "\n",
    " "
   ]
  },
  {
   "cell_type": "code",
   "execution_count": null,
   "metadata": {},
   "outputs": [],
   "source": [
    "link=\"https://da.wikipedia.org/wiki/Danmarks_demografi\"\n",
    "import pandas as pd\n",
    "tables=pd.read_html(link)\n",
    "tables"
   ]
  },
  {
   "cell_type": "code",
   "execution_count": null,
   "metadata": {},
   "outputs": [],
   "source": [
    "df_danmark = tables[0] # 0 is first table in the html page ,5 is sex table in this page\n",
    "df_danmark.drop(index=[0,1]).reset_index(drop=True) #drop=true 去掉旧的INDEX,drop=false 保留旧的INDEX 且产生新的INDEX\n",
    "\n"
   ]
  },
  {
   "cell_type": "markdown",
   "metadata": {},
   "source": [
    " # b) \n",
    "  Clean the data and draw a graph of population against year from 1769-2020. (**)"
   ]
  },
  {
   "cell_type": "markdown",
   "metadata": {},
   "source": [
    "# 3. Norwegian demographic data (*)\n",
    "Go to Swedish-language wikipedia page Norges demografi.\n",
    "\n",
    "  a) Read in the table under \"Befolkningsstatistik sedan 1900\" into a DataFrame\n",
    "\n",
    "  b) You see some missing data in column \"Total fertilitet\". Go to the English page and read in the data from \"Vital statistics since 1900\".\n",
    "\n",
    "  c) Pick out the fertility column from b) dataset, merge it into a) dataset and clean the data so that you only have columns \"År\", \"Folkmängd\", \"Fertilitet\"."
   ]
  },
  {
   "cell_type": "markdown",
   "metadata": {},
   "source": [
    "# 4. Merge Sweden-Norway (*)\n",
    "Create a population graph and a fertility graph showing Sweden and Norway."
   ]
  }
 ],
 "metadata": {
  "interpreter": {
   "hash": "378709abd558d8e3c833f527b4b1fe3f10522f583709d8a7955466a0d10fd308"
  },
  "kernelspec": {
   "display_name": "Python 3.9.6 64-bit ('Databehandling_Xiu-TYvkZc4P': pipenv)",
   "name": "python3"
  },
  "language_info": {
   "codemirror_mode": {
    "name": "ipython",
    "version": 3
   },
   "file_extension": ".py",
   "mimetype": "text/x-python",
   "name": "python",
   "nbconvert_exporter": "python",
   "pygments_lexer": "ipython3",
   "version": "3.9.6"
  },
  "orig_nbformat": 4
 },
 "nbformat": 4,
 "nbformat_minor": 2
}
