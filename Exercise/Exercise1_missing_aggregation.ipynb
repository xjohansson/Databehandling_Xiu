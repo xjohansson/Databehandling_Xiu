{
 "cells": [
  {
   "cell_type": "markdown",
   "metadata": {},
   "source": [
    "\n",
    "<a href=\"https://colab.research.google.com/github/kokchun/Databehandling-21/blob/main/Exercises/E01_missing_aggregation.ipynb\" target=\"_parent\"><img align=\"left\" src=\"https://colab.research.google.com/assets/colab-badge.svg\" alt=\"Open In Colab\"/></a> &nbsp; to see hints and answers."
   ]
  },
  {
   "cell_type": "markdown",
   "metadata": {},
   "source": [
    "---\n",
    "# Missing data and aggregations exercises\n",
    "\n",
    "---\n",
    "These are introductory exercises in Pandas with focus in **syntax, indexing, data selection, missing data, aggregations, visualizations** and **data cleaning**.\n",
    "\n",
    "<p class = \"alert alert-info\" role=\"alert\"><b>Note</b> all datasets used in this exercise can be found under Data folder of the course Github repo</p>\n",
    "\n",
    "<p class = \"alert alert-info\" role=\"alert\"><b>Note</b> that there are usually many ways to achieve same results using operations in pandas. Feel free to investigate several ways. </p>\n",
    "\n",
    "<p class = \"alert alert-info\" role=\"alert\"><b>Note</b> that in cases when you start to repeat code, try not to. Create functions to reuse code instead. </p>\n",
    "\n",
    "<p class = \"alert alert-info\" role=\"alert\"><b>Remember</b> to use <b>descriptive variable, function, index </b> and <b> column names</b> in order to get readable code </p>\n",
    "\n",
    "<p class = \"alert alert-info\" role=\"alert\"><b>Remember</b> to format your input questions in a pedagogical way to guide the user\n",
    "\n",
    "The number of stars (\\*), (\\*\\*), (\\*\\*\\*) denotes the difficulty level of the task\n",
    "\n",
    "---"
   ]
  },
  {
   "cell_type": "markdown",
   "metadata": {},
   "source": [
    "## 1. Find missing values (*)\n",
    "\n",
    " a) Read in the file \"student-mat-missing-data.csv\" into a Pandas DataFrame\n",
    "\n",
    "b) Do some initial explorations with the methods to get an understanding of the dataset:\n",
    "```py\n",
    "head(), info(), describe(), value_counts(), unique(), columns()\n",
    "```\n",
    "\n",
    "c) Create a function that takes in a DataFrame as input parameter and plots a barplot with the columns that have missing values. Put this function into a file called data_utils.py.\n",
    "When you come across more useful functions, you can store them in your data_utils module. \n",
    "\n",
    " d) Now import your function from the module data_utils and use it to visualize NaNs in your dataset.\n",
    "\n",
    "e) Find all rows where the freetime is NaN.   \n",
    "\n",
    " f) Find all rows where the freetime **or** the age is NaN.  \n",
    "\n",
    "g) You will notice that some rows have several NaNs. Now compute the proportion that these rows constitute of the whole dataset.\n"
   ]
  },
  {
   "cell_type": "markdown",
   "metadata": {},
   "source": [
    "# a)\n",
    "Read in the file \"student-mat-missing-data.csv\" into a Pandas DataFrame"
   ]
  },
  {
   "cell_type": "code",
   "execution_count": 5,
   "metadata": {},
   "outputs": [
    {
     "data": {
      "text/html": [
       "<div>\n",
       "<style scoped>\n",
       "    .dataframe tbody tr th:only-of-type {\n",
       "        vertical-align: middle;\n",
       "    }\n",
       "\n",
       "    .dataframe tbody tr th {\n",
       "        vertical-align: top;\n",
       "    }\n",
       "\n",
       "    .dataframe thead th {\n",
       "        text-align: right;\n",
       "    }\n",
       "</style>\n",
       "<table border=\"1\" class=\"dataframe\">\n",
       "  <thead>\n",
       "    <tr style=\"text-align: right;\">\n",
       "      <th></th>\n",
       "      <th>Unnamed: 0</th>\n",
       "      <th>school</th>\n",
       "      <th>sex</th>\n",
       "      <th>age</th>\n",
       "      <th>address</th>\n",
       "      <th>famsize</th>\n",
       "      <th>Pstatus</th>\n",
       "      <th>Medu</th>\n",
       "      <th>Fedu</th>\n",
       "      <th>Mjob</th>\n",
       "      <th>...</th>\n",
       "      <th>famrel</th>\n",
       "      <th>freetime</th>\n",
       "      <th>goout</th>\n",
       "      <th>Dalc</th>\n",
       "      <th>Walc</th>\n",
       "      <th>health</th>\n",
       "      <th>absences</th>\n",
       "      <th>G1</th>\n",
       "      <th>G2</th>\n",
       "      <th>G3</th>\n",
       "    </tr>\n",
       "  </thead>\n",
       "  <tbody>\n",
       "    <tr>\n",
       "      <th>0</th>\n",
       "      <td>0</td>\n",
       "      <td>GP</td>\n",
       "      <td>F</td>\n",
       "      <td>18.0</td>\n",
       "      <td>U</td>\n",
       "      <td>GT3</td>\n",
       "      <td>A</td>\n",
       "      <td>4</td>\n",
       "      <td>4</td>\n",
       "      <td>at_home</td>\n",
       "      <td>...</td>\n",
       "      <td>4.0</td>\n",
       "      <td>3.0</td>\n",
       "      <td>4.0</td>\n",
       "      <td>1</td>\n",
       "      <td>1</td>\n",
       "      <td>3.0</td>\n",
       "      <td>6.0</td>\n",
       "      <td>5</td>\n",
       "      <td>6</td>\n",
       "      <td>6</td>\n",
       "    </tr>\n",
       "    <tr>\n",
       "      <th>1</th>\n",
       "      <td>1</td>\n",
       "      <td>GP</td>\n",
       "      <td>F</td>\n",
       "      <td>17.0</td>\n",
       "      <td>U</td>\n",
       "      <td>GT3</td>\n",
       "      <td>T</td>\n",
       "      <td>1</td>\n",
       "      <td>1</td>\n",
       "      <td>at_home</td>\n",
       "      <td>...</td>\n",
       "      <td>5.0</td>\n",
       "      <td>3.0</td>\n",
       "      <td>3.0</td>\n",
       "      <td>1</td>\n",
       "      <td>1</td>\n",
       "      <td>3.0</td>\n",
       "      <td>4.0</td>\n",
       "      <td>5</td>\n",
       "      <td>5</td>\n",
       "      <td>6</td>\n",
       "    </tr>\n",
       "    <tr>\n",
       "      <th>2</th>\n",
       "      <td>2</td>\n",
       "      <td>GP</td>\n",
       "      <td>F</td>\n",
       "      <td>15.0</td>\n",
       "      <td>U</td>\n",
       "      <td>LE3</td>\n",
       "      <td>T</td>\n",
       "      <td>1</td>\n",
       "      <td>1</td>\n",
       "      <td>at_home</td>\n",
       "      <td>...</td>\n",
       "      <td>4.0</td>\n",
       "      <td>3.0</td>\n",
       "      <td>2.0</td>\n",
       "      <td>2</td>\n",
       "      <td>3</td>\n",
       "      <td>3.0</td>\n",
       "      <td>10.0</td>\n",
       "      <td>7</td>\n",
       "      <td>8</td>\n",
       "      <td>10</td>\n",
       "    </tr>\n",
       "    <tr>\n",
       "      <th>3</th>\n",
       "      <td>3</td>\n",
       "      <td>GP</td>\n",
       "      <td>F</td>\n",
       "      <td>15.0</td>\n",
       "      <td>U</td>\n",
       "      <td>GT3</td>\n",
       "      <td>T</td>\n",
       "      <td>4</td>\n",
       "      <td>2</td>\n",
       "      <td>health</td>\n",
       "      <td>...</td>\n",
       "      <td>3.0</td>\n",
       "      <td>2.0</td>\n",
       "      <td>2.0</td>\n",
       "      <td>1</td>\n",
       "      <td>1</td>\n",
       "      <td>5.0</td>\n",
       "      <td>2.0</td>\n",
       "      <td>15</td>\n",
       "      <td>14</td>\n",
       "      <td>15</td>\n",
       "    </tr>\n",
       "    <tr>\n",
       "      <th>4</th>\n",
       "      <td>4</td>\n",
       "      <td>GP</td>\n",
       "      <td>F</td>\n",
       "      <td>16.0</td>\n",
       "      <td>U</td>\n",
       "      <td>GT3</td>\n",
       "      <td>T</td>\n",
       "      <td>3</td>\n",
       "      <td>3</td>\n",
       "      <td>other</td>\n",
       "      <td>...</td>\n",
       "      <td>4.0</td>\n",
       "      <td>3.0</td>\n",
       "      <td>2.0</td>\n",
       "      <td>1</td>\n",
       "      <td>2</td>\n",
       "      <td>5.0</td>\n",
       "      <td>4.0</td>\n",
       "      <td>6</td>\n",
       "      <td>10</td>\n",
       "      <td>10</td>\n",
       "    </tr>\n",
       "  </tbody>\n",
       "</table>\n",
       "<p>5 rows × 34 columns</p>\n",
       "</div>"
      ],
      "text/plain": [
       "   Unnamed: 0 school sex   age address famsize Pstatus  Medu  Fedu     Mjob  \\\n",
       "0           0     GP   F  18.0       U     GT3       A     4     4  at_home   \n",
       "1           1     GP   F  17.0       U     GT3       T     1     1  at_home   \n",
       "2           2     GP   F  15.0       U     LE3       T     1     1  at_home   \n",
       "3           3     GP   F  15.0       U     GT3       T     4     2   health   \n",
       "4           4     GP   F  16.0       U     GT3       T     3     3    other   \n",
       "\n",
       "   ... famrel freetime goout  Dalc  Walc  health absences  G1  G2  G3  \n",
       "0  ...    4.0      3.0   4.0     1     1     3.0      6.0   5   6   6  \n",
       "1  ...    5.0      3.0   3.0     1     1     3.0      4.0   5   5   6  \n",
       "2  ...    4.0      3.0   2.0     2     3     3.0     10.0   7   8  10  \n",
       "3  ...    3.0      2.0   2.0     1     1     5.0      2.0  15  14  15  \n",
       "4  ...    4.0      3.0   2.0     1     2     5.0      4.0   6  10  10  \n",
       "\n",
       "[5 rows x 34 columns]"
      ]
     },
     "execution_count": 5,
     "metadata": {},
     "output_type": "execute_result"
    }
   ],
   "source": [
    "import pandas as pd\n",
    "# C:\\Users\\Xiu\\Documents\\GitHub\\Databehandling_Xiu\\datasource\n",
    "df = pd.read_csv(\"../datasource/student-mat-missing-data.csv\")\n",
    "df.head(5)"
   ]
  },
  {
   "cell_type": "markdown",
   "metadata": {},
   "source": [
    "# b) \n",
    "Do some initial explorations with the methods to get an understanding of the dataset:"
   ]
  },
  {
   "cell_type": "code",
   "execution_count": 6,
   "metadata": {},
   "outputs": [
    {
     "data": {
      "text/plain": [
       "(395, 34)"
      ]
     },
     "execution_count": 6,
     "metadata": {},
     "output_type": "execute_result"
    }
   ],
   "source": [
    "df.shape"
   ]
  },
  {
   "cell_type": "code",
   "execution_count": 23,
   "metadata": {},
   "outputs": [
    {
     "data": {
      "text/plain": [
       "array(['at_home', 'health', 'other', 'services', 'teacher'], dtype=object)"
      ]
     },
     "execution_count": 23,
     "metadata": {},
     "output_type": "execute_result"
    }
   ],
   "source": [
    "df[\"Mjob\"].unique()\n",
    "#df[\"sex\"].unique()"
   ]
  },
  {
   "cell_type": "code",
   "execution_count": 9,
   "metadata": {},
   "outputs": [
    {
     "name": "stdout",
     "output_type": "stream",
     "text": [
      "<class 'pandas.core.frame.DataFrame'>\n",
      "RangeIndex: 395 entries, 0 to 394\n",
      "Data columns (total 34 columns):\n",
      " #   Column      Non-Null Count  Dtype  \n",
      "---  ------      --------------  -----  \n",
      " 0   Unnamed: 0  395 non-null    int64  \n",
      " 1   school      395 non-null    object \n",
      " 2   sex         395 non-null    object \n",
      " 3   age         381 non-null    float64\n",
      " 4   address     390 non-null    object \n",
      " 5   famsize     395 non-null    object \n",
      " 6   Pstatus     395 non-null    object \n",
      " 7   Medu        395 non-null    int64  \n",
      " 8   Fedu        395 non-null    int64  \n",
      " 9   Mjob        395 non-null    object \n",
      " 10  Fjob        395 non-null    object \n",
      " 11  reason      395 non-null    object \n",
      " 12  guardian    395 non-null    object \n",
      " 13  traveltime  395 non-null    int64  \n",
      " 14  studytime   395 non-null    int64  \n",
      " 15  failures    395 non-null    int64  \n",
      " 16  schoolsup   395 non-null    object \n",
      " 17  famsup      395 non-null    object \n",
      " 18  paid        395 non-null    object \n",
      " 19  activities  395 non-null    object \n",
      " 20  nursery     395 non-null    object \n",
      " 21  higher      395 non-null    object \n",
      " 22  internet    395 non-null    object \n",
      " 23  romantic    395 non-null    object \n",
      " 24  famrel      390 non-null    float64\n",
      " 25  freetime    379 non-null    float64\n",
      " 26  goout       390 non-null    float64\n",
      " 27  Dalc        395 non-null    int64  \n",
      " 28  Walc        395 non-null    int64  \n",
      " 29  health      390 non-null    float64\n",
      " 30  absences    390 non-null    float64\n",
      " 31  G1          395 non-null    int64  \n",
      " 32  G2          395 non-null    int64  \n",
      " 33  G3          395 non-null    int64  \n",
      "dtypes: float64(6), int64(11), object(17)\n",
      "memory usage: 105.0+ KB\n"
     ]
    }
   ],
   "source": [
    "df.info()"
   ]
  },
  {
   "cell_type": "code",
   "execution_count": 24,
   "metadata": {},
   "outputs": [
    {
     "data": {
      "text/plain": [
       "F    208\n",
       "M    187\n",
       "Name: sex, dtype: int64"
      ]
     },
     "execution_count": 24,
     "metadata": {},
     "output_type": "execute_result"
    }
   ],
   "source": [
    "df[\"sex\"].value_counts()"
   ]
  },
  {
   "cell_type": "code",
   "execution_count": 33,
   "metadata": {},
   "outputs": [
    {
     "data": {
      "text/plain": [
       "14"
      ]
     },
     "execution_count": 33,
     "metadata": {},
     "output_type": "execute_result"
    }
   ],
   "source": [
    "df[\"age\"].isnull().sum()"
   ]
  },
  {
   "cell_type": "code",
   "execution_count": 37,
   "metadata": {},
   "outputs": [
    {
     "name": "stdout",
     "output_type": "stream",
     "text": [
      "Unnamed: 0     0\n",
      "school         0\n",
      "sex            0\n",
      "age           14\n",
      "address        5\n",
      "famsize        0\n",
      "Pstatus        0\n",
      "Medu           0\n",
      "Fedu           0\n",
      "Mjob           0\n",
      "Fjob           0\n",
      "reason         0\n",
      "guardian       0\n",
      "traveltime     0\n",
      "studytime      0\n",
      "failures       0\n",
      "schoolsup      0\n",
      "famsup         0\n",
      "paid           0\n",
      "activities     0\n",
      "nursery        0\n",
      "higher         0\n",
      "internet       0\n",
      "romantic       0\n",
      "famrel         5\n",
      "freetime      16\n",
      "goout          5\n",
      "Dalc           0\n",
      "Walc           0\n",
      "health         5\n",
      "absences       5\n",
      "G1             0\n",
      "G2             0\n",
      "G3             0\n",
      "dtype: int64\n"
     ]
    }
   ],
   "source": [
    "nulls=df.isnull().sum() \n",
    "print(nulls)"
   ]
  },
  {
   "cell_type": "markdown",
   "metadata": {},
   "source": [
    "## c)\n",
    "Create a function that takes in a DataFrame as input parameter and plots a barplot with the columns that have missing values. Put this function into a file called data_utils.py.\n",
    "\n",
    "When you come across more useful functions, you can store them in your data_utils module. "
   ]
  },
  {
   "cell_type": "code",
   "execution_count": null,
   "metadata": {},
   "outputs": [],
   "source": []
  },
  {
   "cell_type": "markdown",
   "metadata": {},
   "source": [
    "# d)\n",
    "Now import your function from the module data_utils and use it to visualize NaNs in your dataset."
   ]
  },
  {
   "cell_type": "code",
   "execution_count": 39,
   "metadata": {},
   "outputs": [
    {
     "ename": "ModuleNotFoundError",
     "evalue": "No module named 'data_utils'",
     "output_type": "error",
     "traceback": [
      "\u001b[1;31m---------------------------------------------------------------------------\u001b[0m",
      "\u001b[1;31mModuleNotFoundError\u001b[0m                       Traceback (most recent call last)",
      "\u001b[1;32m~\\AppData\\Local\\Temp/ipykernel_16756/3759542452.py\u001b[0m in \u001b[0;36m<module>\u001b[1;34m\u001b[0m\n\u001b[1;32m----> 1\u001b[1;33m \u001b[1;32mfrom\u001b[0m \u001b[0mdata_utils\u001b[0m \u001b[1;32mimport\u001b[0m \u001b[0mfind_missing_values\u001b[0m\u001b[1;33m\u001b[0m\u001b[1;33m\u001b[0m\u001b[0m\n\u001b[0m\u001b[0;32m      2\u001b[0m \u001b[1;33m\u001b[0m\u001b[0m\n\u001b[0;32m      3\u001b[0m \u001b[0mfind_missing_values\u001b[0m\u001b[1;33m(\u001b[0m\u001b[0mdf\u001b[0m\u001b[1;33m)\u001b[0m\u001b[1;33m\u001b[0m\u001b[1;33m\u001b[0m\u001b[0m\n",
      "\u001b[1;31mModuleNotFoundError\u001b[0m: No module named 'data_utils'"
     ]
    }
   ],
   "source": [
    "from data_utils import find_missing_values\n",
    "\n",
    "find_missing_values(df)"
   ]
  },
  {
   "cell_type": "markdown",
   "metadata": {},
   "source": [
    "# e) \n",
    "Find all rows where the freetime is NaN.   "
   ]
  },
  {
   "cell_type": "code",
   "execution_count": 56,
   "metadata": {},
   "outputs": [
    {
     "data": {
      "text/plain": [
       "array([ 87,  99, 130, 149, 151, 160, 191, 257, 276, 293, 308, 330, 343,\n",
       "       359, 372, 385], dtype=int64)"
      ]
     },
     "execution_count": 56,
     "metadata": {},
     "output_type": "execute_result"
    }
   ],
   "source": [
    "freetime_missing = df[\"freetime\"].isnull()\n",
    "\n",
    "freetime_missing = freetime_missing[freetime_missing == True]\n",
    "freetime_missing.index.values\n",
    "\n"
   ]
  },
  {
   "cell_type": "code",
   "execution_count": 44,
   "metadata": {},
   "outputs": [
    {
     "data": {
      "text/plain": [
       "16"
      ]
     },
     "execution_count": 44,
     "metadata": {},
     "output_type": "execute_result"
    }
   ],
   "source": [
    "df[\"freetime\"].isnull().sum()"
   ]
  },
  {
   "cell_type": "markdown",
   "metadata": {},
   "source": [
    "\n",
    "# f) \n",
    "Find all rows where the freetime **or** the age is NaN.  "
   ]
  },
  {
   "cell_type": "markdown",
   "metadata": {},
   "source": [
    "# g)\n",
    " You will notice that some rows have several NaNs. Now compute the proportion that these rows constitute of the whole dataset."
   ]
  },
  {
   "cell_type": "markdown",
   "metadata": {},
   "source": [
    "---\n",
    "## 2. Clean the data (*)\n",
    "\n",
    "&nbsp; a) As you have conversed with a domain expert you both agree that there are too many missing data to fill in and the proportion is small enough to be safe to just remove.  \n",
    "Now remove these rows and use your missing-value utility function visualize the remaining NaNs.\n",
    "\n",
    "&nbsp; b) The domain expert has told you that you have to fill in the missing age values.\n",
    "Start with visualising the age distribution in the dataset using a histogram. \n",
    "\n",
    "&nbsp; c) Check which columns there are in the dataset to see what can be utilised in determining the age.\n",
    "\n",
    "&nbsp; d) The column higher seems interesting. Let's see which unique values it can have. \n",
    "\n",
    "&nbsp; e) Let's see if we can see some connection between age distribution and higher.\n",
    "Make 3 subplots of age histograms:\n",
    "- Plot 1: same as b)\n",
    "- Plot 2: age distribution when higher is yes \n",
    "- Plot 3: age distribution when higher is no  \n",
    "\n",
    "&nbsp; f) That was hard to find a connection. When reading [dataset source](https://www.kaggle.com/uciml/student-alcohol-consumption) we find alcohol consumption, maybe there is some connection between age and alcohol consumption.\n",
    "- Dalc - workday alcohol consumption (numeric: from 1 - very low to 5 - very high)\n",
    "- Walc - weekend alcohol consumption (numeric: from 1 - very low to 5 - very high)\n",
    "\n",
    "&nbsp; Start with creating a new column called Alcohol, which is a sum of Dalc and Walc columns\n",
    "\n",
    "&nbsp; g) Make a barchart for alcohol consumption vs age.\n",
    "\n",
    "&nbsp; h) We see that older students tend to drink more, but notice how few 20-22 year-old students we have in the dataset. We can definitely exclude them when computing the missing values. However there are also few 19 year-old students in the dataset, say for simplicity that we can exclude them as well. This leaves: \n",
    "- alcohol level >= 4 -> 16, 17 or 18 years old -> take median to simplify \n",
    "- alcohol level < 4 -> 15 years old\n",
    "\n",
    "Fill these in and visualize missing values. \n",
    "\n",
    "&nbsp; Note: could make more stringent by computing percentages based on the distribution\n",
    "\n",
    "\n",
    "<details>\n",
    "<summary>Answer</summary>\n",
    "\n",
    "a)\n",
    "\n",
    "![null values graph after cleaned once](../assets/null_vals_student_2.png)\n",
    "\n",
    "b)\n",
    "\n",
    "![Age distribution](../assets/age_distribution_student.png)\n",
    "\n",
    "c)\n",
    "\n",
    "```python\n",
    "\n",
    "Index(['Unnamed: 0', 'school', 'sex', 'age', 'address', 'famsize', 'Pstatus',\n",
    "       'Medu', 'Fedu', 'Mjob', 'Fjob', 'reason', 'guardian', 'traveltime',\n",
    "       'studytime', 'failures', 'schoolsup', 'famsup', 'paid', 'activities',\n",
    "       'nursery', 'higher', 'internet', 'romantic', 'famrel', 'freetime',\n",
    "       'goout', 'Dalc', 'Walc', 'health', 'absences', 'G1', 'G2', 'G3'],\n",
    "      dtype='object')\n",
    "```\n",
    "\n",
    "d)\n",
    "\n",
    "```python\n",
    "\n",
    "array(['yes', 'no'], dtype=object)\n",
    "\n",
    "```\n",
    "\n",
    "e)\n",
    "\n",
    "![Age distribution with higher](../assets/age_dist_higher.png)\n",
    "\n",
    "f) \n",
    "\n",
    "```python\n",
    "\n",
    "0      2\n",
    "1      2\n",
    "2      5\n",
    "3      2\n",
    "4      3\n",
    "      ..\n",
    "390    9\n",
    "391    7\n",
    "392    6\n",
    "393    7\n",
    "394    6\n",
    "Name: Alcohol, Length: 390, dtype: int64\n",
    "\n",
    "```\n",
    "\n",
    "g)\n",
    "\n",
    "![Age distribution vs alcohol](../assets/alcohol_age.png)\n",
    "\n"
   ]
  },
  {
   "cell_type": "markdown",
   "metadata": {},
   "source": [
    "---\n",
    "## 3. Clean freetime column (**)\n",
    "\n",
    "Now there are missing data on freetime that needs to be filled. \n",
    "- Try yourself and find reasonable approaches for how you would fill those missing data.\n",
    "- Document what you have tried and different findings\n",
    "- Combine suitable visualizations with pandas methods"
   ]
  },
  {
   "cell_type": "markdown",
   "metadata": {},
   "source": [
    "---\n",
    "\n",
    "Kokchun Giang\n",
    "\n",
    "[LinkedIn][linkedIn_kokchun]\n",
    "\n",
    "[GitHub portfolio][github_portfolio]\n",
    "\n",
    "[linkedIn_kokchun]: https://www.linkedin.com/in/kokchungiang/\n",
    "[github_portfolio]: https://github.com/kokchun/Portfolio-Kokchun-Giang\n",
    "\n",
    "---"
   ]
  }
 ],
 "metadata": {
  "interpreter": {
   "hash": "378709abd558d8e3c833f527b4b1fe3f10522f583709d8a7955466a0d10fd308"
  },
  "kernelspec": {
   "display_name": "Python 3.9.6 64-bit ('Databehandling_Xiu-TYvkZc4P': pipenv)",
   "name": "python3"
  },
  "language_info": {
   "codemirror_mode": {
    "name": "ipython",
    "version": 3
   },
   "file_extension": ".py",
   "mimetype": "text/x-python",
   "name": "python",
   "nbconvert_exporter": "python",
   "pygments_lexer": "ipython3",
   "version": "3.9.6"
  },
  "orig_nbformat": 4
 },
 "nbformat": 4,
 "nbformat_minor": 2
}
